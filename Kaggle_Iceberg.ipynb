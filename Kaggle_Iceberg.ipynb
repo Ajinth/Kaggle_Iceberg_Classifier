{
 "cells": [
  {
   "cell_type": "code",
   "execution_count": 563,
   "metadata": {},
   "outputs": [],
   "source": [
    "import pandas as pd \n",
    "import numpy as np \n",
    "import json\n",
    "\n",
    "from sklearn.model_selection import train_test_split\n",
    "from sklearn.preprocessing import StandardScaler\n",
    "\n",
    "from keras.models import Sequential\n",
    "from keras.layers import Dense, Dropout, Conv2D, MaxPool2D, Flatten\n",
    "from keras.wrappers.scikit_learn import KerasClassifier\n",
    "from keras.utils import to_categorical\n",
    "from keras.preprocessing.image import ImageDataGenerator # data augmentation\n",
    "from keras.optimizers import Adam, SGD\n",
    "\n",
    "\n",
    "\n",
    "import matplotlib.pyplot as plt \n",
    "%matplotlib inline "
   ]
  },
  {
   "cell_type": "markdown",
   "metadata": {},
   "source": [
    "# Loading the Training and the Test Sets"
   ]
  },
  {
   "cell_type": "code",
   "execution_count": 564,
   "metadata": {},
   "outputs": [],
   "source": [
    "train = pd.read_json('train/processed/train.json')\n",
    "test = pd.read_json('test/processed/test.json')"
   ]
  },
  {
   "cell_type": "code",
   "execution_count": 565,
   "metadata": {},
   "outputs": [
    {
     "data": {
      "text/html": [
       "<div>\n",
       "<style scoped>\n",
       "    .dataframe tbody tr th:only-of-type {\n",
       "        vertical-align: middle;\n",
       "    }\n",
       "\n",
       "    .dataframe tbody tr th {\n",
       "        vertical-align: top;\n",
       "    }\n",
       "\n",
       "    .dataframe thead th {\n",
       "        text-align: right;\n",
       "    }\n",
       "</style>\n",
       "<table border=\"1\" class=\"dataframe\">\n",
       "  <thead>\n",
       "    <tr style=\"text-align: right;\">\n",
       "      <th></th>\n",
       "      <th>band_1</th>\n",
       "      <th>band_2</th>\n",
       "      <th>id</th>\n",
       "      <th>inc_angle</th>\n",
       "      <th>is_iceberg</th>\n",
       "    </tr>\n",
       "  </thead>\n",
       "  <tbody>\n",
       "    <tr>\n",
       "      <th>0</th>\n",
       "      <td>[-27.878360999999998, -27.15416, -28.668615, -...</td>\n",
       "      <td>[-27.154118, -29.537888, -31.0306, -32.190483,...</td>\n",
       "      <td>dfd5f913</td>\n",
       "      <td>43.9239</td>\n",
       "      <td>0</td>\n",
       "    </tr>\n",
       "    <tr>\n",
       "      <th>1</th>\n",
       "      <td>[-12.242375, -14.920304999999999, -14.920363, ...</td>\n",
       "      <td>[-31.506321, -27.984554, -26.645678, -23.76760...</td>\n",
       "      <td>e25388fd</td>\n",
       "      <td>38.1562</td>\n",
       "      <td>0</td>\n",
       "    </tr>\n",
       "    <tr>\n",
       "      <th>2</th>\n",
       "      <td>[-24.603676, -24.603714, -24.871029, -23.15277...</td>\n",
       "      <td>[-24.870956, -24.092632, -20.653963, -19.41104...</td>\n",
       "      <td>58b2aaa0</td>\n",
       "      <td>45.2859</td>\n",
       "      <td>1</td>\n",
       "    </tr>\n",
       "    <tr>\n",
       "      <th>3</th>\n",
       "      <td>[-22.454607, -23.082819, -23.998013, -23.99805...</td>\n",
       "      <td>[-27.889421, -27.519794, -27.165262, -29.10350...</td>\n",
       "      <td>4cfc3a18</td>\n",
       "      <td>43.8306</td>\n",
       "      <td>0</td>\n",
       "    </tr>\n",
       "    <tr>\n",
       "      <th>4</th>\n",
       "      <td>[-26.006956, -23.164886, -23.164886, -26.89116...</td>\n",
       "      <td>[-27.206915, -30.259186, -30.259186, -23.16495...</td>\n",
       "      <td>271f93f4</td>\n",
       "      <td>35.6256</td>\n",
       "      <td>0</td>\n",
       "    </tr>\n",
       "  </tbody>\n",
       "</table>\n",
       "</div>"
      ],
      "text/plain": [
       "                                              band_1  \\\n",
       "0  [-27.878360999999998, -27.15416, -28.668615, -...   \n",
       "1  [-12.242375, -14.920304999999999, -14.920363, ...   \n",
       "2  [-24.603676, -24.603714, -24.871029, -23.15277...   \n",
       "3  [-22.454607, -23.082819, -23.998013, -23.99805...   \n",
       "4  [-26.006956, -23.164886, -23.164886, -26.89116...   \n",
       "\n",
       "                                              band_2        id inc_angle  \\\n",
       "0  [-27.154118, -29.537888, -31.0306, -32.190483,...  dfd5f913   43.9239   \n",
       "1  [-31.506321, -27.984554, -26.645678, -23.76760...  e25388fd   38.1562   \n",
       "2  [-24.870956, -24.092632, -20.653963, -19.41104...  58b2aaa0   45.2859   \n",
       "3  [-27.889421, -27.519794, -27.165262, -29.10350...  4cfc3a18   43.8306   \n",
       "4  [-27.206915, -30.259186, -30.259186, -23.16495...  271f93f4   35.6256   \n",
       "\n",
       "   is_iceberg  \n",
       "0           0  \n",
       "1           0  \n",
       "2           1  \n",
       "3           0  \n",
       "4           0  "
      ]
     },
     "execution_count": 565,
     "metadata": {},
     "output_type": "execute_result"
    }
   ],
   "source": [
    "train.head()"
   ]
  },
  {
   "cell_type": "code",
   "execution_count": 566,
   "metadata": {},
   "outputs": [
    {
     "name": "stdout",
     "output_type": "stream",
     "text": [
      "<class 'pandas.core.frame.DataFrame'>\n",
      "Int64Index: 1604 entries, 0 to 1603\n",
      "Data columns (total 5 columns):\n",
      "band_1        1604 non-null object\n",
      "band_2        1604 non-null object\n",
      "id            1604 non-null object\n",
      "inc_angle     1604 non-null object\n",
      "is_iceberg    1604 non-null int64\n",
      "dtypes: int64(1), object(4)\n",
      "memory usage: 75.2+ KB\n"
     ]
    }
   ],
   "source": [
    "train.info()"
   ]
  },
  {
   "cell_type": "code",
   "execution_count": 567,
   "metadata": {},
   "outputs": [
    {
     "data": {
      "text/plain": [
       "na         133\n",
       "34.4721     23\n",
       "42.5591     16\n",
       "36.1061     15\n",
       "33.6352     15\n",
       "Name: inc_angle, dtype: int64"
      ]
     },
     "execution_count": 567,
     "metadata": {},
     "output_type": "execute_result"
    }
   ],
   "source": [
    "train['inc_angle'].value_counts().head()"
   ]
  },
  {
   "cell_type": "markdown",
   "metadata": {},
   "source": [
    "We right away notice that there are some NA valus in the inc_angle column "
   ]
  },
  {
   "cell_type": "code",
   "execution_count": 568,
   "metadata": {},
   "outputs": [
    {
     "data": {
      "text/plain": [
       "'na'"
      ]
     },
     "execution_count": 568,
     "metadata": {},
     "output_type": "execute_result"
    }
   ],
   "source": [
    "train['inc_angle'].value_counts().head().index[0]"
   ]
  },
  {
   "cell_type": "code",
   "execution_count": 569,
   "metadata": {},
   "outputs": [],
   "source": [
    "'''Replacing the NAs with 0s'''\n",
    "train['inc_angle'] = train.inc_angle.replace(train['inc_angle'].value_counts().head().index[0], 0)"
   ]
  },
  {
   "cell_type": "code",
   "execution_count": 570,
   "metadata": {},
   "outputs": [
    {
     "data": {
      "text/plain": [
       "0.0000     133\n",
       "34.4721     23\n",
       "42.5591     16\n",
       "33.6352     15\n",
       "36.1061     15\n",
       "Name: inc_angle, dtype: int64"
      ]
     },
     "execution_count": 570,
     "metadata": {},
     "output_type": "execute_result"
    }
   ],
   "source": [
    "'''Validating the Replacements'''\n",
    "train['inc_angle'].value_counts().head()"
   ]
  },
  {
   "cell_type": "code",
   "execution_count": 571,
   "metadata": {},
   "outputs": [
    {
     "data": {
      "text/html": [
       "<div>\n",
       "<style scoped>\n",
       "    .dataframe tbody tr th:only-of-type {\n",
       "        vertical-align: middle;\n",
       "    }\n",
       "\n",
       "    .dataframe tbody tr th {\n",
       "        vertical-align: top;\n",
       "    }\n",
       "\n",
       "    .dataframe thead th {\n",
       "        text-align: right;\n",
       "    }\n",
       "</style>\n",
       "<table border=\"1\" class=\"dataframe\">\n",
       "  <thead>\n",
       "    <tr style=\"text-align: right;\">\n",
       "      <th></th>\n",
       "      <th>band_1</th>\n",
       "      <th>band_2</th>\n",
       "      <th>id</th>\n",
       "      <th>inc_angle</th>\n",
       "      <th>is_iceberg</th>\n",
       "    </tr>\n",
       "  </thead>\n",
       "  <tbody>\n",
       "    <tr>\n",
       "      <th>0</th>\n",
       "      <td>[-27.878360999999998, -27.15416, -28.668615, -...</td>\n",
       "      <td>[-27.154118, -29.537888, -31.0306, -32.190483,...</td>\n",
       "      <td>dfd5f913</td>\n",
       "      <td>43.9239</td>\n",
       "      <td>0</td>\n",
       "    </tr>\n",
       "    <tr>\n",
       "      <th>1</th>\n",
       "      <td>[-12.242375, -14.920304999999999, -14.920363, ...</td>\n",
       "      <td>[-31.506321, -27.984554, -26.645678, -23.76760...</td>\n",
       "      <td>e25388fd</td>\n",
       "      <td>38.1562</td>\n",
       "      <td>0</td>\n",
       "    </tr>\n",
       "    <tr>\n",
       "      <th>2</th>\n",
       "      <td>[-24.603676, -24.603714, -24.871029, -23.15277...</td>\n",
       "      <td>[-24.870956, -24.092632, -20.653963, -19.41104...</td>\n",
       "      <td>58b2aaa0</td>\n",
       "      <td>45.2859</td>\n",
       "      <td>1</td>\n",
       "    </tr>\n",
       "    <tr>\n",
       "      <th>3</th>\n",
       "      <td>[-22.454607, -23.082819, -23.998013, -23.99805...</td>\n",
       "      <td>[-27.889421, -27.519794, -27.165262, -29.10350...</td>\n",
       "      <td>4cfc3a18</td>\n",
       "      <td>43.8306</td>\n",
       "      <td>0</td>\n",
       "    </tr>\n",
       "    <tr>\n",
       "      <th>4</th>\n",
       "      <td>[-26.006956, -23.164886, -23.164886, -26.89116...</td>\n",
       "      <td>[-27.206915, -30.259186, -30.259186, -23.16495...</td>\n",
       "      <td>271f93f4</td>\n",
       "      <td>35.6256</td>\n",
       "      <td>0</td>\n",
       "    </tr>\n",
       "  </tbody>\n",
       "</table>\n",
       "</div>"
      ],
      "text/plain": [
       "                                              band_1  \\\n",
       "0  [-27.878360999999998, -27.15416, -28.668615, -...   \n",
       "1  [-12.242375, -14.920304999999999, -14.920363, ...   \n",
       "2  [-24.603676, -24.603714, -24.871029, -23.15277...   \n",
       "3  [-22.454607, -23.082819, -23.998013, -23.99805...   \n",
       "4  [-26.006956, -23.164886, -23.164886, -26.89116...   \n",
       "\n",
       "                                              band_2        id  inc_angle  \\\n",
       "0  [-27.154118, -29.537888, -31.0306, -32.190483,...  dfd5f913    43.9239   \n",
       "1  [-31.506321, -27.984554, -26.645678, -23.76760...  e25388fd    38.1562   \n",
       "2  [-24.870956, -24.092632, -20.653963, -19.41104...  58b2aaa0    45.2859   \n",
       "3  [-27.889421, -27.519794, -27.165262, -29.10350...  4cfc3a18    43.8306   \n",
       "4  [-27.206915, -30.259186, -30.259186, -23.16495...  271f93f4    35.6256   \n",
       "\n",
       "   is_iceberg  \n",
       "0           0  \n",
       "1           0  \n",
       "2           1  \n",
       "3           0  \n",
       "4           0  "
      ]
     },
     "execution_count": 571,
     "metadata": {},
     "output_type": "execute_result"
    }
   ],
   "source": [
    "train.head()"
   ]
  },
  {
   "cell_type": "code",
   "execution_count": 572,
   "metadata": {},
   "outputs": [
    {
     "data": {
      "text/plain": [
       "0    851\n",
       "1    753\n",
       "Name: is_iceberg, dtype: int64"
      ]
     },
     "execution_count": 572,
     "metadata": {},
     "output_type": "execute_result"
    }
   ],
   "source": [
    "train.is_iceberg.value_counts()"
   ]
  },
  {
   "cell_type": "code",
   "execution_count": 573,
   "metadata": {},
   "outputs": [],
   "source": [
    "'''Preprocessing the image to be fed into the model'''\n",
    "\n",
    "b1 = np.array([np.array(band).astype(np.float32).reshape(75,75) for band in train[\"band_1\"]])\n",
    "b2 = np.array([np.array(band).astype(np.float32).reshape(75,75) for band in train['band_2']])\n",
    "\n",
    "b1 = b1/255.\n",
    "b2 = b2/255."
   ]
  },
  {
   "cell_type": "code",
   "execution_count": 574,
   "metadata": {},
   "outputs": [],
   "source": [
    "X = np.stack([b1,b2], axis=3)\n",
    "y = to_categorical(train['is_iceberg'])"
   ]
  },
  {
   "cell_type": "code",
   "execution_count": 575,
   "metadata": {
    "collapsed": true
   },
   "outputs": [],
   "source": [
    "X_train, X_test, y_train, y_test = train_test_split(X,y, test_size=0.2)"
   ]
  },
  {
   "cell_type": "code",
   "execution_count": 576,
   "metadata": {},
   "outputs": [
    {
     "data": {
      "text/plain": [
       "(1283, 75, 75, 2)"
      ]
     },
     "execution_count": 576,
     "metadata": {},
     "output_type": "execute_result"
    }
   ],
   "source": [
    "X_train.shape"
   ]
  },
  {
   "cell_type": "code",
   "execution_count": 577,
   "metadata": {},
   "outputs": [
    {
     "data": {
      "text/plain": [
       "(321, 2)"
      ]
     },
     "execution_count": 577,
     "metadata": {},
     "output_type": "execute_result"
    }
   ],
   "source": [
    "y_test.shape"
   ]
  },
  {
   "cell_type": "markdown",
   "metadata": {},
   "source": [
    "# Buidling a Simple Keras Model"
   ]
  },
  {
   "cell_type": "code",
   "execution_count": 578,
   "metadata": {},
   "outputs": [],
   "source": [
    "'''Setting up the Model'''\n",
    "model=Sequential()\n",
    "\n",
    "'''Setting up the Layers'''\n",
    "model.add(Conv2D(filters=15, kernel_size=(5,5), strides=(1,1), input_shape=(75,75,2), activation='relu'))\n",
    "model.add(MaxPool2D(pool_size=(2,2)))\n",
    "# model.add(Dropout(0.01))\n",
    "\n",
    "model.add(Conv2D(filters=30, kernel_size=(4,4), activation='relu'))\n",
    "model.add(MaxPool2D(pool_size=(2,2)))\n",
    "# model.add(Dropout(0.01))\n",
    "\n",
    "\n",
    "model.add(Conv2D(filters=60, kernel_size=(4,4), activation='relu'))\n",
    "model.add(MaxPool2D(pool_size=(2,2)))\n",
    "# model.add(Dropout(0.01))\n",
    "\n",
    "\n",
    "model.add(Flatten())\n",
    "model.add(Dense(50, activation='relu'))\n",
    "\n",
    "'''Setting up the Output'''\n",
    "model.add(Dense(2, activation='sigmoid'))"
   ]
  },
  {
   "cell_type": "code",
   "execution_count": 579,
   "metadata": {
    "collapsed": true
   },
   "outputs": [],
   "source": [
    "ad = Adam(lr=0.001)"
   ]
  },
  {
   "cell_type": "code",
   "execution_count": 580,
   "metadata": {},
   "outputs": [],
   "source": [
    "'''Compiling the Model'''\n",
    "model.compile(optimizer=ad, loss='categorical_crossentropy', metrics = ['accuracy'])"
   ]
  },
  {
   "cell_type": "code",
   "execution_count": 581,
   "metadata": {},
   "outputs": [
    {
     "name": "stdout",
     "output_type": "stream",
     "text": [
      "Train on 1283 samples, validate on 321 samples\n",
      "Epoch 1/45\n",
      "1283/1283 [==============================] - 11s 9ms/step - loss: 0.6817 - acc: 0.5331 - val_loss: 0.6180 - val_acc: 0.5202\n",
      "Epoch 2/45\n",
      "1283/1283 [==============================] - 8s 6ms/step - loss: 0.5772 - acc: 0.6376 - val_loss: 0.5563 - val_acc: 0.7072\n",
      "Epoch 3/45\n",
      "1283/1283 [==============================] - 9s 7ms/step - loss: 0.5313 - acc: 0.7046 - val_loss: 0.5006 - val_acc: 0.7259\n",
      "Epoch 4/45\n",
      "1283/1283 [==============================] - 9s 7ms/step - loss: 0.5571 - acc: 0.6711 - val_loss: 0.5400 - val_acc: 0.7072\n",
      "Epoch 5/45\n",
      "1283/1283 [==============================] - 10s 8ms/step - loss: 0.5404 - acc: 0.6867 - val_loss: 0.5245 - val_acc: 0.7103\n",
      "Epoch 6/45\n",
      "1283/1283 [==============================] - 8s 6ms/step - loss: 0.5150 - acc: 0.7186 - val_loss: 0.4500 - val_acc: 0.7788\n",
      "Epoch 7/45\n",
      "1283/1283 [==============================] - 8s 6ms/step - loss: 0.4689 - acc: 0.7599 - val_loss: 0.3812 - val_acc: 0.8380\n",
      "Epoch 8/45\n",
      "1283/1283 [==============================] - 8s 6ms/step - loss: 0.4727 - acc: 0.7872 - val_loss: 0.3356 - val_acc: 0.8474\n",
      "Epoch 9/45\n",
      "1283/1283 [==============================] - 8s 6ms/step - loss: 0.3857 - acc: 0.8168 - val_loss: 0.3428 - val_acc: 0.8380\n",
      "Epoch 10/45\n",
      "1283/1283 [==============================] - 8s 6ms/step - loss: 0.5235 - acc: 0.7186 - val_loss: 0.4976 - val_acc: 0.7757\n",
      "Epoch 11/45\n",
      "1283/1283 [==============================] - 8s 6ms/step - loss: 0.4998 - acc: 0.7350 - val_loss: 0.4425 - val_acc: 0.7882\n",
      "Epoch 12/45\n",
      "1283/1283 [==============================] - 8s 6ms/step - loss: 0.4793 - acc: 0.7615 - val_loss: 0.4211 - val_acc: 0.7975\n",
      "Epoch 13/45\n",
      "1283/1283 [==============================] - 8s 6ms/step - loss: 0.4535 - acc: 0.7763 - val_loss: 0.3872 - val_acc: 0.8474\n",
      "Epoch 14/45\n",
      "1283/1283 [==============================] - 9s 7ms/step - loss: 0.4665 - acc: 0.7646 - val_loss: 0.4277 - val_acc: 0.7913\n",
      "Epoch 15/45\n",
      "1283/1283 [==============================] - 9s 7ms/step - loss: 0.4294 - acc: 0.7794 - val_loss: 0.3585 - val_acc: 0.8318\n",
      "Epoch 16/45\n",
      "1283/1283 [==============================] - 8s 6ms/step - loss: 0.4191 - acc: 0.8028 - val_loss: 0.3964 - val_acc: 0.8442\n",
      "Epoch 17/45\n",
      "1283/1283 [==============================] - 8s 6ms/step - loss: 0.3889 - acc: 0.8192 - val_loss: 0.2813 - val_acc: 0.8941\n",
      "Epoch 18/45\n",
      "1283/1283 [==============================] - 8s 6ms/step - loss: 0.3829 - acc: 0.8083 - val_loss: 0.3031 - val_acc: 0.8910\n",
      "Epoch 19/45\n",
      "1283/1283 [==============================] - 8s 6ms/step - loss: 0.3736 - acc: 0.8371 - val_loss: 0.2673 - val_acc: 0.9003\n",
      "Epoch 20/45\n",
      "1283/1283 [==============================] - 8s 6ms/step - loss: 0.3428 - acc: 0.8542 - val_loss: 0.2520 - val_acc: 0.8723\n",
      "Epoch 21/45\n",
      "1283/1283 [==============================] - 8s 6ms/step - loss: 0.4202 - acc: 0.8161 - val_loss: 0.3571 - val_acc: 0.8224\n",
      "Epoch 22/45\n",
      "1283/1283 [==============================] - 8s 6ms/step - loss: 0.3391 - acc: 0.8465 - val_loss: 0.2743 - val_acc: 0.8785\n",
      "Epoch 23/45\n",
      "1283/1283 [==============================] - 9s 7ms/step - loss: 0.3130 - acc: 0.8589 - val_loss: 0.2472 - val_acc: 0.8910\n",
      "Epoch 24/45\n",
      "1283/1283 [==============================] - 9s 7ms/step - loss: 0.2856 - acc: 0.8698 - val_loss: 0.2379 - val_acc: 0.8816\n",
      "Epoch 25/45\n",
      "1283/1283 [==============================] - 8s 6ms/step - loss: 0.2944 - acc: 0.8644 - val_loss: 0.3411 - val_acc: 0.8660\n",
      "Epoch 26/45\n",
      "1283/1283 [==============================] - 8s 6ms/step - loss: 0.3404 - acc: 0.8472 - val_loss: 0.2342 - val_acc: 0.9003\n",
      "Epoch 27/45\n",
      "1283/1283 [==============================] - 9s 7ms/step - loss: 0.2927 - acc: 0.8776 - val_loss: 0.2488 - val_acc: 0.8754\n",
      "Epoch 28/45\n",
      "1283/1283 [==============================] - 9s 7ms/step - loss: 0.2602 - acc: 0.8839 - val_loss: 0.2439 - val_acc: 0.8941\n",
      "Epoch 29/45\n",
      "1283/1283 [==============================] - 9s 7ms/step - loss: 0.2484 - acc: 0.8948 - val_loss: 0.2377 - val_acc: 0.8910\n",
      "Epoch 30/45\n",
      "1283/1283 [==============================] - 9s 7ms/step - loss: 0.2437 - acc: 0.9026 - val_loss: 0.2050 - val_acc: 0.9003\n",
      "Epoch 31/45\n",
      "1283/1283 [==============================] - 8s 6ms/step - loss: 0.2324 - acc: 0.8924 - val_loss: 0.2249 - val_acc: 0.8972\n",
      "Epoch 32/45\n",
      "1283/1283 [==============================] - 9s 7ms/step - loss: 0.2357 - acc: 0.8979 - val_loss: 0.2088 - val_acc: 0.9065\n",
      "Epoch 33/45\n",
      "1283/1283 [==============================] - 9s 7ms/step - loss: 0.2520 - acc: 0.8893 - val_loss: 0.2517 - val_acc: 0.8723\n",
      "Epoch 34/45\n",
      "1283/1283 [==============================] - 8s 6ms/step - loss: 0.2362 - acc: 0.9010 - val_loss: 0.2051 - val_acc: 0.9128\n",
      "Epoch 35/45\n",
      "1283/1283 [==============================] - 8s 6ms/step - loss: 0.2128 - acc: 0.9049 - val_loss: 0.2223 - val_acc: 0.8941\n",
      "Epoch 36/45\n",
      "1283/1283 [==============================] - 8s 6ms/step - loss: 0.2192 - acc: 0.9034 - val_loss: 0.2430 - val_acc: 0.8910\n",
      "Epoch 37/45\n",
      "1283/1283 [==============================] - 9s 7ms/step - loss: 0.2293 - acc: 0.8979 - val_loss: 0.3069 - val_acc: 0.8910\n",
      "Epoch 38/45\n",
      "1283/1283 [==============================] - 8s 6ms/step - loss: 0.3181 - acc: 0.8613 - val_loss: 0.2179 - val_acc: 0.8972\n",
      "Epoch 39/45\n",
      "1283/1283 [==============================] - 8s 7ms/step - loss: 0.2069 - acc: 0.9049 - val_loss: 0.2246 - val_acc: 0.8972\n",
      "Epoch 40/45\n",
      "1283/1283 [==============================] - 8s 6ms/step - loss: 0.2027 - acc: 0.9135 - val_loss: 0.2199 - val_acc: 0.9034\n",
      "Epoch 41/45\n",
      "1283/1283 [==============================] - 9s 7ms/step - loss: 0.2207 - acc: 0.9002 - val_loss: 0.2491 - val_acc: 0.8847\n",
      "Epoch 42/45\n",
      "1283/1283 [==============================] - 11s 9ms/step - loss: 0.1913 - acc: 0.9174 - val_loss: 0.2325 - val_acc: 0.9034\n",
      "Epoch 43/45\n",
      "1283/1283 [==============================] - 10s 8ms/step - loss: 0.1928 - acc: 0.9150 - val_loss: 0.2064 - val_acc: 0.9034\n",
      "Epoch 44/45\n",
      "1283/1283 [==============================] - 10s 7ms/step - loss: 0.1704 - acc: 0.9306 - val_loss: 0.2198 - val_acc: 0.9128\n",
      "Epoch 45/45\n",
      "1283/1283 [==============================] - 12s 9ms/step - loss: 0.1959 - acc: 0.9104 - val_loss: 0.2444 - val_acc: 0.9065\n"
     ]
    },
    {
     "data": {
      "text/plain": [
       "<keras.callbacks.History at 0x3fd7966a0>"
      ]
     },
     "execution_count": 581,
     "metadata": {},
     "output_type": "execute_result"
    }
   ],
   "source": [
    "'''Fitting the model'''\n",
    "model.fit(X_train, y_train, validation_data=[X_test, y_test], epochs=45, verbose=1, batch_size=40)"
   ]
  },
  {
   "cell_type": "code",
   "execution_count": 582,
   "metadata": {},
   "outputs": [
    {
     "name": "stdout",
     "output_type": "stream",
     "text": [
      "_________________________________________________________________\n",
      "Layer (type)                 Output Shape              Param #   \n",
      "=================================================================\n",
      "conv2d_154 (Conv2D)          (None, 71, 71, 15)        765       \n",
      "_________________________________________________________________\n",
      "max_pooling2d_151 (MaxPoolin (None, 35, 35, 15)        0         \n",
      "_________________________________________________________________\n",
      "conv2d_155 (Conv2D)          (None, 32, 32, 30)        7230      \n",
      "_________________________________________________________________\n",
      "max_pooling2d_152 (MaxPoolin (None, 16, 16, 30)        0         \n",
      "_________________________________________________________________\n",
      "conv2d_156 (Conv2D)          (None, 13, 13, 60)        28860     \n",
      "_________________________________________________________________\n",
      "max_pooling2d_153 (MaxPoolin (None, 6, 6, 60)          0         \n",
      "_________________________________________________________________\n",
      "flatten_41 (Flatten)         (None, 2160)              0         \n",
      "_________________________________________________________________\n",
      "dense_75 (Dense)             (None, 50)                108050    \n",
      "_________________________________________________________________\n",
      "dense_76 (Dense)             (None, 2)                 102       \n",
      "=================================================================\n",
      "Total params: 145,007\n",
      "Trainable params: 145,007\n",
      "Non-trainable params: 0\n",
      "_________________________________________________________________\n"
     ]
    }
   ],
   "source": [
    "model.summary()"
   ]
  },
  {
   "cell_type": "markdown",
   "metadata": {},
   "source": [
    "# Getting Ready for some predictions "
   ]
  },
  {
   "cell_type": "code",
   "execution_count": 583,
   "metadata": {},
   "outputs": [],
   "source": [
    "'''Preprocessing the test image to be fed into the model'''\n",
    "b1_test = np.array([np.array(band).astype(np.float32).reshape(75,75) for band in test[\"band_1\"]])\n",
    "b2_test = np.array([np.array(band).astype(np.float32).reshape(75,75) for band in test['band_2']])\n",
    "\n",
    "b1_test = b1_test/255.\n",
    "b2_test = b2_test/255."
   ]
  },
  {
   "cell_type": "code",
   "execution_count": 584,
   "metadata": {},
   "outputs": [],
   "source": [
    "X_test_submission = np.stack([b1_test,b2_test], axis=3)"
   ]
  },
  {
   "cell_type": "code",
   "execution_count": 585,
   "metadata": {},
   "outputs": [],
   "source": [
    "pred = model.predict_classes(X_test_submission)"
   ]
  },
  {
   "cell_type": "code",
   "execution_count": 586,
   "metadata": {},
   "outputs": [
    {
     "data": {
      "text/plain": [
       "array([0, 1, 1, 1, 1, 0, 0, 1, 0, 0])"
      ]
     },
     "execution_count": 586,
     "metadata": {},
     "output_type": "execute_result"
    }
   ],
   "source": [
    "pred[0:10]"
   ]
  },
  {
   "cell_type": "code",
   "execution_count": 587,
   "metadata": {},
   "outputs": [],
   "source": [
    "submit_df = pd.DataFrame({'id': test['id'], 'is_iceberg': pred})\n",
    "submit_df.to_csv('naive_submission.csv', index=False)"
   ]
  },
  {
   "cell_type": "code",
   "execution_count": null,
   "metadata": {
    "collapsed": true
   },
   "outputs": [],
   "source": []
  },
  {
   "cell_type": "code",
   "execution_count": null,
   "metadata": {
    "collapsed": true
   },
   "outputs": [],
   "source": []
  }
 ],
 "metadata": {
  "kernelspec": {
   "display_name": "Python 3",
   "language": "python",
   "name": "python3"
  },
  "language_info": {
   "codemirror_mode": {
    "name": "ipython",
    "version": 3
   },
   "file_extension": ".py",
   "mimetype": "text/x-python",
   "name": "python",
   "nbconvert_exporter": "python",
   "pygments_lexer": "ipython3",
   "version": "3.6.1"
  }
 },
 "nbformat": 4,
 "nbformat_minor": 2
}
