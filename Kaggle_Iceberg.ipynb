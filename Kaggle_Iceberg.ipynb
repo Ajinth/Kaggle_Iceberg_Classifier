{
 "cells": [
  {
   "cell_type": "code",
   "execution_count": 395,
   "metadata": {},
   "outputs": [],
   "source": [
    "import pandas as pd \n",
    "import numpy as np \n",
    "import json\n",
    "\n",
    "from sklearn.model_selection import train_test_split\n",
    "from sklearn.preprocessing import StandardScaler\n",
    "\n",
    "from keras.models import Sequential\n",
    "from keras.layers import Dense, Dropout, Conv2D, MaxPool2D, Flatten\n",
    "from keras.wrappers.scikit_learn import KerasClassifier\n",
    "from keras.utils import to_categorical\n",
    "\n",
    "\n",
    "\n",
    "import matplotlib.pyplot as plt \n",
    "%matplotlib inline "
   ]
  },
  {
   "cell_type": "markdown",
   "metadata": {},
   "source": [
    "# Loading the Training and the Test Sets"
   ]
  },
  {
   "cell_type": "code",
   "execution_count": 396,
   "metadata": {},
   "outputs": [],
   "source": [
    "train = pd.read_json('train/processed/train.json')\n",
    "test = pd.read_json('test/processed/test.json')"
   ]
  },
  {
   "cell_type": "code",
   "execution_count": 397,
   "metadata": {},
   "outputs": [
    {
     "data": {
      "text/html": [
       "<div>\n",
       "<style scoped>\n",
       "    .dataframe tbody tr th:only-of-type {\n",
       "        vertical-align: middle;\n",
       "    }\n",
       "\n",
       "    .dataframe tbody tr th {\n",
       "        vertical-align: top;\n",
       "    }\n",
       "\n",
       "    .dataframe thead th {\n",
       "        text-align: right;\n",
       "    }\n",
       "</style>\n",
       "<table border=\"1\" class=\"dataframe\">\n",
       "  <thead>\n",
       "    <tr style=\"text-align: right;\">\n",
       "      <th></th>\n",
       "      <th>band_1</th>\n",
       "      <th>band_2</th>\n",
       "      <th>id</th>\n",
       "      <th>inc_angle</th>\n",
       "      <th>is_iceberg</th>\n",
       "    </tr>\n",
       "  </thead>\n",
       "  <tbody>\n",
       "    <tr>\n",
       "      <th>0</th>\n",
       "      <td>[-27.878360999999998, -27.15416, -28.668615, -...</td>\n",
       "      <td>[-27.154118, -29.537888, -31.0306, -32.190483,...</td>\n",
       "      <td>dfd5f913</td>\n",
       "      <td>43.9239</td>\n",
       "      <td>0</td>\n",
       "    </tr>\n",
       "    <tr>\n",
       "      <th>1</th>\n",
       "      <td>[-12.242375, -14.920304999999999, -14.920363, ...</td>\n",
       "      <td>[-31.506321, -27.984554, -26.645678, -23.76760...</td>\n",
       "      <td>e25388fd</td>\n",
       "      <td>38.1562</td>\n",
       "      <td>0</td>\n",
       "    </tr>\n",
       "    <tr>\n",
       "      <th>2</th>\n",
       "      <td>[-24.603676, -24.603714, -24.871029, -23.15277...</td>\n",
       "      <td>[-24.870956, -24.092632, -20.653963, -19.41104...</td>\n",
       "      <td>58b2aaa0</td>\n",
       "      <td>45.2859</td>\n",
       "      <td>1</td>\n",
       "    </tr>\n",
       "    <tr>\n",
       "      <th>3</th>\n",
       "      <td>[-22.454607, -23.082819, -23.998013, -23.99805...</td>\n",
       "      <td>[-27.889421, -27.519794, -27.165262, -29.10350...</td>\n",
       "      <td>4cfc3a18</td>\n",
       "      <td>43.8306</td>\n",
       "      <td>0</td>\n",
       "    </tr>\n",
       "    <tr>\n",
       "      <th>4</th>\n",
       "      <td>[-26.006956, -23.164886, -23.164886, -26.89116...</td>\n",
       "      <td>[-27.206915, -30.259186, -30.259186, -23.16495...</td>\n",
       "      <td>271f93f4</td>\n",
       "      <td>35.6256</td>\n",
       "      <td>0</td>\n",
       "    </tr>\n",
       "  </tbody>\n",
       "</table>\n",
       "</div>"
      ],
      "text/plain": [
       "                                              band_1  \\\n",
       "0  [-27.878360999999998, -27.15416, -28.668615, -...   \n",
       "1  [-12.242375, -14.920304999999999, -14.920363, ...   \n",
       "2  [-24.603676, -24.603714, -24.871029, -23.15277...   \n",
       "3  [-22.454607, -23.082819, -23.998013, -23.99805...   \n",
       "4  [-26.006956, -23.164886, -23.164886, -26.89116...   \n",
       "\n",
       "                                              band_2        id inc_angle  \\\n",
       "0  [-27.154118, -29.537888, -31.0306, -32.190483,...  dfd5f913   43.9239   \n",
       "1  [-31.506321, -27.984554, -26.645678, -23.76760...  e25388fd   38.1562   \n",
       "2  [-24.870956, -24.092632, -20.653963, -19.41104...  58b2aaa0   45.2859   \n",
       "3  [-27.889421, -27.519794, -27.165262, -29.10350...  4cfc3a18   43.8306   \n",
       "4  [-27.206915, -30.259186, -30.259186, -23.16495...  271f93f4   35.6256   \n",
       "\n",
       "   is_iceberg  \n",
       "0           0  \n",
       "1           0  \n",
       "2           1  \n",
       "3           0  \n",
       "4           0  "
      ]
     },
     "execution_count": 397,
     "metadata": {},
     "output_type": "execute_result"
    }
   ],
   "source": [
    "train.head()"
   ]
  },
  {
   "cell_type": "code",
   "execution_count": 398,
   "metadata": {},
   "outputs": [
    {
     "name": "stdout",
     "output_type": "stream",
     "text": [
      "<class 'pandas.core.frame.DataFrame'>\n",
      "Int64Index: 1604 entries, 0 to 1603\n",
      "Data columns (total 5 columns):\n",
      "band_1        1604 non-null object\n",
      "band_2        1604 non-null object\n",
      "id            1604 non-null object\n",
      "inc_angle     1604 non-null object\n",
      "is_iceberg    1604 non-null int64\n",
      "dtypes: int64(1), object(4)\n",
      "memory usage: 75.2+ KB\n"
     ]
    }
   ],
   "source": [
    "train.info()"
   ]
  },
  {
   "cell_type": "code",
   "execution_count": 399,
   "metadata": {},
   "outputs": [
    {
     "data": {
      "text/plain": [
       "na         133\n",
       "34.4721     23\n",
       "42.5591     16\n",
       "36.1061     15\n",
       "33.6352     15\n",
       "Name: inc_angle, dtype: int64"
      ]
     },
     "execution_count": 399,
     "metadata": {},
     "output_type": "execute_result"
    }
   ],
   "source": [
    "train['inc_angle'].value_counts().head()"
   ]
  },
  {
   "cell_type": "markdown",
   "metadata": {},
   "source": [
    "We right away notice that there are some NA valus in the inc_angle column "
   ]
  },
  {
   "cell_type": "code",
   "execution_count": 400,
   "metadata": {},
   "outputs": [
    {
     "data": {
      "text/plain": [
       "'na'"
      ]
     },
     "execution_count": 400,
     "metadata": {},
     "output_type": "execute_result"
    }
   ],
   "source": [
    "train['inc_angle'].value_counts().head().index[0]"
   ]
  },
  {
   "cell_type": "code",
   "execution_count": 401,
   "metadata": {},
   "outputs": [],
   "source": [
    "'''Replacing the NAs with 0s'''\n",
    "train['inc_angle'] = train.inc_angle.replace(train['inc_angle'].value_counts().head().index[0], 0)"
   ]
  },
  {
   "cell_type": "code",
   "execution_count": 402,
   "metadata": {},
   "outputs": [
    {
     "data": {
      "text/plain": [
       "0.0000     133\n",
       "34.4721     23\n",
       "42.5591     16\n",
       "33.6352     15\n",
       "36.1061     15\n",
       "Name: inc_angle, dtype: int64"
      ]
     },
     "execution_count": 402,
     "metadata": {},
     "output_type": "execute_result"
    }
   ],
   "source": [
    "'''Validating the Replacements'''\n",
    "train['inc_angle'].value_counts().head()"
   ]
  },
  {
   "cell_type": "code",
   "execution_count": 403,
   "metadata": {},
   "outputs": [
    {
     "data": {
      "text/html": [
       "<div>\n",
       "<style scoped>\n",
       "    .dataframe tbody tr th:only-of-type {\n",
       "        vertical-align: middle;\n",
       "    }\n",
       "\n",
       "    .dataframe tbody tr th {\n",
       "        vertical-align: top;\n",
       "    }\n",
       "\n",
       "    .dataframe thead th {\n",
       "        text-align: right;\n",
       "    }\n",
       "</style>\n",
       "<table border=\"1\" class=\"dataframe\">\n",
       "  <thead>\n",
       "    <tr style=\"text-align: right;\">\n",
       "      <th></th>\n",
       "      <th>band_1</th>\n",
       "      <th>band_2</th>\n",
       "      <th>id</th>\n",
       "      <th>inc_angle</th>\n",
       "      <th>is_iceberg</th>\n",
       "    </tr>\n",
       "  </thead>\n",
       "  <tbody>\n",
       "    <tr>\n",
       "      <th>0</th>\n",
       "      <td>[-27.878360999999998, -27.15416, -28.668615, -...</td>\n",
       "      <td>[-27.154118, -29.537888, -31.0306, -32.190483,...</td>\n",
       "      <td>dfd5f913</td>\n",
       "      <td>43.9239</td>\n",
       "      <td>0</td>\n",
       "    </tr>\n",
       "    <tr>\n",
       "      <th>1</th>\n",
       "      <td>[-12.242375, -14.920304999999999, -14.920363, ...</td>\n",
       "      <td>[-31.506321, -27.984554, -26.645678, -23.76760...</td>\n",
       "      <td>e25388fd</td>\n",
       "      <td>38.1562</td>\n",
       "      <td>0</td>\n",
       "    </tr>\n",
       "    <tr>\n",
       "      <th>2</th>\n",
       "      <td>[-24.603676, -24.603714, -24.871029, -23.15277...</td>\n",
       "      <td>[-24.870956, -24.092632, -20.653963, -19.41104...</td>\n",
       "      <td>58b2aaa0</td>\n",
       "      <td>45.2859</td>\n",
       "      <td>1</td>\n",
       "    </tr>\n",
       "    <tr>\n",
       "      <th>3</th>\n",
       "      <td>[-22.454607, -23.082819, -23.998013, -23.99805...</td>\n",
       "      <td>[-27.889421, -27.519794, -27.165262, -29.10350...</td>\n",
       "      <td>4cfc3a18</td>\n",
       "      <td>43.8306</td>\n",
       "      <td>0</td>\n",
       "    </tr>\n",
       "    <tr>\n",
       "      <th>4</th>\n",
       "      <td>[-26.006956, -23.164886, -23.164886, -26.89116...</td>\n",
       "      <td>[-27.206915, -30.259186, -30.259186, -23.16495...</td>\n",
       "      <td>271f93f4</td>\n",
       "      <td>35.6256</td>\n",
       "      <td>0</td>\n",
       "    </tr>\n",
       "  </tbody>\n",
       "</table>\n",
       "</div>"
      ],
      "text/plain": [
       "                                              band_1  \\\n",
       "0  [-27.878360999999998, -27.15416, -28.668615, -...   \n",
       "1  [-12.242375, -14.920304999999999, -14.920363, ...   \n",
       "2  [-24.603676, -24.603714, -24.871029, -23.15277...   \n",
       "3  [-22.454607, -23.082819, -23.998013, -23.99805...   \n",
       "4  [-26.006956, -23.164886, -23.164886, -26.89116...   \n",
       "\n",
       "                                              band_2        id  inc_angle  \\\n",
       "0  [-27.154118, -29.537888, -31.0306, -32.190483,...  dfd5f913    43.9239   \n",
       "1  [-31.506321, -27.984554, -26.645678, -23.76760...  e25388fd    38.1562   \n",
       "2  [-24.870956, -24.092632, -20.653963, -19.41104...  58b2aaa0    45.2859   \n",
       "3  [-27.889421, -27.519794, -27.165262, -29.10350...  4cfc3a18    43.8306   \n",
       "4  [-27.206915, -30.259186, -30.259186, -23.16495...  271f93f4    35.6256   \n",
       "\n",
       "   is_iceberg  \n",
       "0           0  \n",
       "1           0  \n",
       "2           1  \n",
       "3           0  \n",
       "4           0  "
      ]
     },
     "execution_count": 403,
     "metadata": {},
     "output_type": "execute_result"
    }
   ],
   "source": [
    "train.head()"
   ]
  },
  {
   "cell_type": "code",
   "execution_count": 404,
   "metadata": {},
   "outputs": [
    {
     "data": {
      "text/plain": [
       "0    851\n",
       "1    753\n",
       "Name: is_iceberg, dtype: int64"
      ]
     },
     "execution_count": 404,
     "metadata": {},
     "output_type": "execute_result"
    }
   ],
   "source": [
    "train.is_iceberg.value_counts()"
   ]
  },
  {
   "cell_type": "code",
   "execution_count": 405,
   "metadata": {},
   "outputs": [],
   "source": [
    "'''Preprocessing the image to be fed into the model'''\n",
    "\n",
    "b1 = np.array([np.array(band).astype(np.float32).reshape(75,75) for band in train[\"band_1\"]])\n",
    "b2 = np.array([np.array(band).astype(np.float32).reshape(75,75) for band in train['band_2']])\n",
    "\n",
    "b1 = b1/255.\n",
    "b2 = b2/255."
   ]
  },
  {
   "cell_type": "code",
   "execution_count": 406,
   "metadata": {},
   "outputs": [],
   "source": [
    "X = np.stack([b1,b2], axis=3)\n",
    "y = to_categorical(train['is_iceberg'])"
   ]
  },
  {
   "cell_type": "code",
   "execution_count": 407,
   "metadata": {
    "collapsed": true
   },
   "outputs": [],
   "source": [
    "X_train, X_test, y_train, y_test = train_test_split(X,y, test_size=0.2)"
   ]
  },
  {
   "cell_type": "code",
   "execution_count": 408,
   "metadata": {},
   "outputs": [
    {
     "data": {
      "text/plain": [
       "(1283, 75, 75, 2)"
      ]
     },
     "execution_count": 408,
     "metadata": {},
     "output_type": "execute_result"
    }
   ],
   "source": [
    "X_train.shape"
   ]
  },
  {
   "cell_type": "code",
   "execution_count": 409,
   "metadata": {},
   "outputs": [
    {
     "data": {
      "text/plain": [
       "(321, 2)"
      ]
     },
     "execution_count": 409,
     "metadata": {},
     "output_type": "execute_result"
    }
   ],
   "source": [
    "y_test.shape"
   ]
  },
  {
   "cell_type": "markdown",
   "metadata": {},
   "source": [
    "# Buidling a Simple Keras Model"
   ]
  },
  {
   "cell_type": "code",
   "execution_count": 410,
   "metadata": {},
   "outputs": [],
   "source": [
    "'''Setting up the Model'''\n",
    "model=Sequential()\n",
    "\n",
    "'''Setting up the Layers'''\n",
    "model.add(Conv2D(filters=15, kernel_size=(5,5), strides=(1,1), input_shape=(75,75,2), activation='relu'))\n",
    "model.add(MaxPool2D(pool_size=(2,2)))\n",
    "\n",
    "model.add(Conv2D(filters=30, kernel_size=(4,4), activation='relu'))\n",
    "model.add(MaxPool2D(pool_size=(2,2)))\n",
    "\n",
    "model.add(Conv2D(filters=45, kernel_size=(4,4), activation='relu'))\n",
    "model.add(MaxPool2D(pool_size=(2,2)))\n",
    "\n",
    "model.add(Conv2D(filters=60, kernel_size=(4,4), activation='relu'))\n",
    "model.add(MaxPool2D(pool_size=(2,2)))\n",
    "\n",
    "\n",
    "model.add(Flatten())\n",
    "model.add(Dense(50, activation='relu'))\n",
    "\n",
    "'''Setting up the Output'''\n",
    "model.add(Dense(2, activation='sigmoid'))"
   ]
  },
  {
   "cell_type": "code",
   "execution_count": 411,
   "metadata": {},
   "outputs": [],
   "source": [
    "'''Compiling the Model'''\n",
    "model.compile(optimizer='adam', loss='categorical_crossentropy', metrics = ['accuracy'])"
   ]
  },
  {
   "cell_type": "code",
   "execution_count": 412,
   "metadata": {},
   "outputs": [
    {
     "name": "stdout",
     "output_type": "stream",
     "text": [
      "Train on 1283 samples, validate on 321 samples\n",
      "Epoch 1/75\n",
      "1283/1283 [==============================] - 12s 9ms/step - loss: 0.6782 - acc: 0.5292 - val_loss: 0.6176 - val_acc: 0.5358\n",
      "Epoch 2/75\n",
      "1283/1283 [==============================] - 9s 7ms/step - loss: 0.5947 - acc: 0.6345 - val_loss: 0.5812 - val_acc: 0.6698\n",
      "Epoch 3/75\n",
      "1283/1283 [==============================] - 8s 6ms/step - loss: 0.5533 - acc: 0.6828 - val_loss: 0.5521 - val_acc: 0.6760\n",
      "Epoch 4/75\n",
      "1283/1283 [==============================] - 8s 6ms/step - loss: 0.5395 - acc: 0.6859 - val_loss: 0.5472 - val_acc: 0.6791\n",
      "Epoch 5/75\n",
      "1283/1283 [==============================] - 7s 6ms/step - loss: 0.5078 - acc: 0.7397 - val_loss: 0.4597 - val_acc: 0.8193\n",
      "Epoch 6/75\n",
      "1283/1283 [==============================] - 7s 6ms/step - loss: 0.4954 - acc: 0.7436 - val_loss: 0.5149 - val_acc: 0.7072\n",
      "Epoch 7/75\n",
      "1283/1283 [==============================] - 7s 6ms/step - loss: 0.4851 - acc: 0.7498 - val_loss: 0.4246 - val_acc: 0.8069\n",
      "Epoch 8/75\n",
      "1283/1283 [==============================] - 8s 6ms/step - loss: 0.4483 - acc: 0.7732 - val_loss: 0.3884 - val_acc: 0.8318\n",
      "Epoch 9/75\n",
      "1283/1283 [==============================] - 7s 6ms/step - loss: 0.4196 - acc: 0.7966 - val_loss: 0.4206 - val_acc: 0.7726\n",
      "Epoch 10/75\n",
      "1283/1283 [==============================] - 7s 6ms/step - loss: 0.3958 - acc: 0.8090 - val_loss: 0.3464 - val_acc: 0.8723\n",
      "Epoch 11/75\n",
      "1283/1283 [==============================] - 7s 6ms/step - loss: 0.3837 - acc: 0.8145 - val_loss: 0.3629 - val_acc: 0.8660\n",
      "Epoch 12/75\n",
      "1283/1283 [==============================] - 7s 6ms/step - loss: 0.3782 - acc: 0.8137 - val_loss: 0.3351 - val_acc: 0.8567\n",
      "Epoch 13/75\n",
      "1283/1283 [==============================] - 9s 7ms/step - loss: 0.3471 - acc: 0.8465 - val_loss: 0.3220 - val_acc: 0.8723\n",
      "Epoch 14/75\n",
      "1283/1283 [==============================] - 8s 6ms/step - loss: 0.3320 - acc: 0.8480 - val_loss: 0.3202 - val_acc: 0.8723\n",
      "Epoch 15/75\n",
      "1283/1283 [==============================] - 8s 6ms/step - loss: 0.3107 - acc: 0.8636 - val_loss: 0.3223 - val_acc: 0.8349\n",
      "Epoch 16/75\n",
      "1283/1283 [==============================] - 7s 6ms/step - loss: 0.3142 - acc: 0.8597 - val_loss: 0.3155 - val_acc: 0.8692\n",
      "Epoch 17/75\n",
      "1283/1283 [==============================] - 8s 6ms/step - loss: 0.3042 - acc: 0.8675 - val_loss: 0.3161 - val_acc: 0.8723\n",
      "Epoch 18/75\n",
      "1283/1283 [==============================] - 8s 6ms/step - loss: 0.2919 - acc: 0.8745 - val_loss: 0.2940 - val_acc: 0.8660\n",
      "Epoch 19/75\n",
      "1283/1283 [==============================] - 8s 7ms/step - loss: 0.2875 - acc: 0.8675 - val_loss: 0.2988 - val_acc: 0.8816\n",
      "Epoch 20/75\n",
      "1283/1283 [==============================] - 8s 6ms/step - loss: 0.2668 - acc: 0.8823 - val_loss: 0.2862 - val_acc: 0.8910\n",
      "Epoch 21/75\n",
      "1283/1283 [==============================] - 9s 7ms/step - loss: 0.2517 - acc: 0.8878 - val_loss: 0.3089 - val_acc: 0.8442\n",
      "Epoch 22/75\n",
      "1283/1283 [==============================] - 8s 7ms/step - loss: 0.2860 - acc: 0.8784 - val_loss: 0.3494 - val_acc: 0.8598\n",
      "Epoch 23/75\n",
      "1283/1283 [==============================] - 8s 6ms/step - loss: 0.2676 - acc: 0.8730 - val_loss: 0.3521 - val_acc: 0.8411\n",
      "Epoch 24/75\n",
      "1283/1283 [==============================] - 9s 7ms/step - loss: 0.3143 - acc: 0.8511 - val_loss: 0.2919 - val_acc: 0.8692\n",
      "Epoch 25/75\n",
      "1283/1283 [==============================] - 9s 7ms/step - loss: 0.2715 - acc: 0.8667 - val_loss: 0.4032 - val_acc: 0.8411\n",
      "Epoch 26/75\n",
      "1283/1283 [==============================] - 8s 6ms/step - loss: 0.2474 - acc: 0.8839 - val_loss: 0.4504 - val_acc: 0.8100\n",
      "Epoch 27/75\n",
      "1283/1283 [==============================] - 8s 6ms/step - loss: 0.3319 - acc: 0.8550 - val_loss: 0.2788 - val_acc: 0.8754\n",
      "Epoch 28/75\n",
      "1283/1283 [==============================] - 8s 6ms/step - loss: 0.2248 - acc: 0.9041 - val_loss: 0.2883 - val_acc: 0.8660\n",
      "Epoch 29/75\n",
      "1283/1283 [==============================] - 8s 6ms/step - loss: 0.2303 - acc: 0.8924 - val_loss: 0.2660 - val_acc: 0.8723\n",
      "Epoch 30/75\n",
      "1283/1283 [==============================] - 8s 6ms/step - loss: 0.2137 - acc: 0.9034 - val_loss: 0.2737 - val_acc: 0.8972\n",
      "Epoch 31/75\n",
      "1283/1283 [==============================] - 8s 6ms/step - loss: 0.2324 - acc: 0.8924 - val_loss: 0.2871 - val_acc: 0.8847\n",
      "Epoch 32/75\n",
      "1283/1283 [==============================] - 8s 6ms/step - loss: 0.2206 - acc: 0.8940 - val_loss: 0.2919 - val_acc: 0.9003\n",
      "Epoch 33/75\n",
      "1283/1283 [==============================] - 8s 6ms/step - loss: 0.2159 - acc: 0.9002 - val_loss: 0.3077 - val_acc: 0.8879\n",
      "Epoch 34/75\n",
      "1283/1283 [==============================] - 7s 6ms/step - loss: 0.1851 - acc: 0.9189 - val_loss: 0.2935 - val_acc: 0.8972\n",
      "Epoch 35/75\n",
      "1283/1283 [==============================] - 7s 6ms/step - loss: 0.1797 - acc: 0.9244 - val_loss: 0.2816 - val_acc: 0.9128\n",
      "Epoch 36/75\n",
      "1283/1283 [==============================] - 7s 6ms/step - loss: 0.1842 - acc: 0.9119 - val_loss: 0.2938 - val_acc: 0.8847\n",
      "Epoch 37/75\n",
      "1283/1283 [==============================] - 7s 6ms/step - loss: 0.1715 - acc: 0.9291 - val_loss: 0.3045 - val_acc: 0.8723\n",
      "Epoch 38/75\n",
      "1283/1283 [==============================] - 7s 6ms/step - loss: 0.1696 - acc: 0.9205 - val_loss: 0.3073 - val_acc: 0.9065\n",
      "Epoch 39/75\n",
      "1283/1283 [==============================] - 8s 6ms/step - loss: 0.1529 - acc: 0.9384 - val_loss: 0.3495 - val_acc: 0.8629\n",
      "Epoch 40/75\n",
      "1283/1283 [==============================] - 8s 6ms/step - loss: 0.1870 - acc: 0.9166 - val_loss: 0.3978 - val_acc: 0.8505\n",
      "Epoch 41/75\n",
      "1283/1283 [==============================] - 9s 7ms/step - loss: 0.1590 - acc: 0.9322 - val_loss: 0.3143 - val_acc: 0.9034\n",
      "Epoch 42/75\n",
      "1283/1283 [==============================] - 8s 6ms/step - loss: 0.1389 - acc: 0.9369 - val_loss: 0.3419 - val_acc: 0.8754\n",
      "Epoch 43/75\n",
      "1283/1283 [==============================] - 7s 6ms/step - loss: 0.1594 - acc: 0.9345 - val_loss: 0.3919 - val_acc: 0.8816\n",
      "Epoch 44/75\n",
      "1283/1283 [==============================] - 9s 7ms/step - loss: 0.1423 - acc: 0.9353 - val_loss: 0.3531 - val_acc: 0.8816\n",
      "Epoch 45/75\n",
      "1283/1283 [==============================] - 10s 8ms/step - loss: 0.1457 - acc: 0.9384 - val_loss: 0.2968 - val_acc: 0.8941\n",
      "Epoch 46/75\n",
      "1283/1283 [==============================] - 8s 6ms/step - loss: 0.1198 - acc: 0.9462 - val_loss: 0.3618 - val_acc: 0.8879\n",
      "Epoch 47/75\n",
      "1283/1283 [==============================] - 8s 6ms/step - loss: 0.1186 - acc: 0.9509 - val_loss: 0.3674 - val_acc: 0.8941\n",
      "Epoch 48/75\n",
      "1283/1283 [==============================] - 8s 6ms/step - loss: 0.1130 - acc: 0.9509 - val_loss: 0.3725 - val_acc: 0.8754\n",
      "Epoch 49/75\n",
      "1283/1283 [==============================] - 8s 6ms/step - loss: 0.1435 - acc: 0.9330 - val_loss: 0.3756 - val_acc: 0.8660\n",
      "Epoch 50/75\n",
      "1283/1283 [==============================] - 8s 6ms/step - loss: 0.1033 - acc: 0.9657 - val_loss: 0.3577 - val_acc: 0.8598\n",
      "Epoch 51/75\n",
      "1283/1283 [==============================] - 8s 6ms/step - loss: 0.1003 - acc: 0.9579 - val_loss: 0.3457 - val_acc: 0.8692\n",
      "Epoch 52/75\n",
      "1283/1283 [==============================] - 8s 6ms/step - loss: 0.0920 - acc: 0.9649 - val_loss: 0.4378 - val_acc: 0.8785\n",
      "Epoch 53/75\n",
      "1283/1283 [==============================] - 8s 6ms/step - loss: 0.0853 - acc: 0.9743 - val_loss: 0.3880 - val_acc: 0.8816\n",
      "Epoch 54/75\n",
      "1283/1283 [==============================] - 8s 6ms/step - loss: 0.0748 - acc: 0.9727 - val_loss: 0.4205 - val_acc: 0.8879\n",
      "Epoch 55/75\n",
      "1283/1283 [==============================] - 8s 6ms/step - loss: 0.0687 - acc: 0.9727 - val_loss: 0.5306 - val_acc: 0.8536\n",
      "Epoch 56/75\n",
      "1283/1283 [==============================] - 8s 6ms/step - loss: 0.1084 - acc: 0.9556 - val_loss: 0.4234 - val_acc: 0.8474\n",
      "Epoch 57/75\n",
      "1283/1283 [==============================] - 8s 6ms/step - loss: 0.1818 - acc: 0.9291 - val_loss: 0.3692 - val_acc: 0.8505\n",
      "Epoch 58/75\n",
      "1283/1283 [==============================] - 8s 6ms/step - loss: 0.1184 - acc: 0.9470 - val_loss: 0.3646 - val_acc: 0.8972\n",
      "Epoch 59/75\n",
      "1283/1283 [==============================] - 8s 7ms/step - loss: 0.1003 - acc: 0.9602 - val_loss: 0.3973 - val_acc: 0.9097\n",
      "Epoch 60/75\n",
      "1283/1283 [==============================] - 8s 6ms/step - loss: 0.0722 - acc: 0.9735 - val_loss: 0.3761 - val_acc: 0.8785\n",
      "Epoch 61/75\n"
     ]
    },
    {
     "name": "stdout",
     "output_type": "stream",
     "text": [
      "1283/1283 [==============================] - 8s 6ms/step - loss: 0.0971 - acc: 0.9657 - val_loss: 0.3743 - val_acc: 0.8785\n",
      "Epoch 62/75\n",
      "1283/1283 [==============================] - 8s 6ms/step - loss: 0.0612 - acc: 0.9758 - val_loss: 0.4379 - val_acc: 0.8879\n",
      "Epoch 63/75\n",
      "1283/1283 [==============================] - 8s 6ms/step - loss: 0.0480 - acc: 0.9844 - val_loss: 0.4758 - val_acc: 0.8816\n",
      "Epoch 64/75\n",
      "1283/1283 [==============================] - 8s 6ms/step - loss: 0.0433 - acc: 0.9899 - val_loss: 0.4436 - val_acc: 0.8910\n",
      "Epoch 65/75\n",
      "1283/1283 [==============================] - 8s 6ms/step - loss: 0.0403 - acc: 0.9906 - val_loss: 0.4653 - val_acc: 0.8816\n",
      "Epoch 66/75\n",
      "1283/1283 [==============================] - 8s 6ms/step - loss: 0.0392 - acc: 0.9883 - val_loss: 0.4750 - val_acc: 0.8879\n",
      "Epoch 67/75\n",
      "1283/1283 [==============================] - 8s 6ms/step - loss: 0.0292 - acc: 0.9938 - val_loss: 0.4591 - val_acc: 0.8910\n",
      "Epoch 68/75\n",
      "1283/1283 [==============================] - 9s 7ms/step - loss: 0.0253 - acc: 0.9969 - val_loss: 0.5214 - val_acc: 0.8816\n",
      "Epoch 69/75\n",
      "1283/1283 [==============================] - 9s 7ms/step - loss: 0.0213 - acc: 0.9953 - val_loss: 0.5515 - val_acc: 0.8785\n",
      "Epoch 70/75\n",
      "1283/1283 [==============================] - 8s 6ms/step - loss: 0.0185 - acc: 0.9977 - val_loss: 0.5192 - val_acc: 0.8910\n",
      "Epoch 71/75\n",
      "1283/1283 [==============================] - 8s 6ms/step - loss: 0.0147 - acc: 0.9977 - val_loss: 0.6289 - val_acc: 0.8785\n",
      "Epoch 72/75\n",
      "1283/1283 [==============================] - 8s 6ms/step - loss: 0.0132 - acc: 0.9977 - val_loss: 0.5555 - val_acc: 0.8816\n",
      "Epoch 73/75\n",
      "1283/1283 [==============================] - 8s 6ms/step - loss: 0.0163 - acc: 0.9961 - val_loss: 0.6108 - val_acc: 0.8879\n",
      "Epoch 74/75\n",
      "1283/1283 [==============================] - 8s 6ms/step - loss: 0.0132 - acc: 0.9984 - val_loss: 0.6445 - val_acc: 0.8660\n",
      "Epoch 75/75\n",
      "1283/1283 [==============================] - 8s 6ms/step - loss: 0.0152 - acc: 0.9961 - val_loss: 0.6207 - val_acc: 0.8536\n"
     ]
    },
    {
     "data": {
      "text/plain": [
       "<keras.callbacks.History at 0x20fbfc710>"
      ]
     },
     "execution_count": 412,
     "metadata": {},
     "output_type": "execute_result"
    }
   ],
   "source": [
    "'''Fitting the model'''\n",
    "model.fit(X_train,y_train, validation_data=[X_test, y_test], epochs=75, verbose=1)"
   ]
  },
  {
   "cell_type": "code",
   "execution_count": 413,
   "metadata": {},
   "outputs": [
    {
     "name": "stdout",
     "output_type": "stream",
     "text": [
      "_________________________________________________________________\n",
      "Layer (type)                 Output Shape              Param #   \n",
      "=================================================================\n",
      "conv2d_94 (Conv2D)           (None, 71, 71, 15)        765       \n",
      "_________________________________________________________________\n",
      "max_pooling2d_91 (MaxPooling (None, 35, 35, 15)        0         \n",
      "_________________________________________________________________\n",
      "conv2d_95 (Conv2D)           (None, 32, 32, 30)        7230      \n",
      "_________________________________________________________________\n",
      "max_pooling2d_92 (MaxPooling (None, 16, 16, 30)        0         \n",
      "_________________________________________________________________\n",
      "conv2d_96 (Conv2D)           (None, 13, 13, 45)        21645     \n",
      "_________________________________________________________________\n",
      "max_pooling2d_93 (MaxPooling (None, 6, 6, 45)          0         \n",
      "_________________________________________________________________\n",
      "conv2d_97 (Conv2D)           (None, 3, 3, 60)          43260     \n",
      "_________________________________________________________________\n",
      "max_pooling2d_94 (MaxPooling (None, 1, 1, 60)          0         \n",
      "_________________________________________________________________\n",
      "flatten_24 (Flatten)         (None, 60)                0         \n",
      "_________________________________________________________________\n",
      "dense_41 (Dense)             (None, 50)                3050      \n",
      "_________________________________________________________________\n",
      "dense_42 (Dense)             (None, 2)                 102       \n",
      "=================================================================\n",
      "Total params: 76,052\n",
      "Trainable params: 76,052\n",
      "Non-trainable params: 0\n",
      "_________________________________________________________________\n"
     ]
    }
   ],
   "source": [
    "model.summary()"
   ]
  },
  {
   "cell_type": "markdown",
   "metadata": {},
   "source": [
    "# Getting Ready for some predictions "
   ]
  },
  {
   "cell_type": "code",
   "execution_count": 414,
   "metadata": {},
   "outputs": [],
   "source": [
    "'''Preprocessing the test image to be fed into the model'''\n",
    "b1_test = np.array([np.array(band).astype(np.float32).reshape(75,75) for band in test[\"band_1\"]])\n",
    "b2_test = np.array([np.array(band).astype(np.float32).reshape(75,75) for band in test['band_2']])\n",
    "\n",
    "b1_test = b1_test/255.\n",
    "b2_test = b2_test/255."
   ]
  },
  {
   "cell_type": "code",
   "execution_count": 415,
   "metadata": {
    "collapsed": true
   },
   "outputs": [],
   "source": [
    "X_test_submission = np.stack([b1_test,b2_test], axis=3)"
   ]
  },
  {
   "cell_type": "code",
   "execution_count": 416,
   "metadata": {},
   "outputs": [],
   "source": [
    "pred = model.predict_classes(X_test_submission)"
   ]
  },
  {
   "cell_type": "code",
   "execution_count": 417,
   "metadata": {},
   "outputs": [
    {
     "data": {
      "text/plain": [
       "array([0, 0, 1, 1, 1, 0, 0, 1, 0, 0])"
      ]
     },
     "execution_count": 417,
     "metadata": {},
     "output_type": "execute_result"
    }
   ],
   "source": [
    "pred[0:10]"
   ]
  },
  {
   "cell_type": "code",
   "execution_count": 418,
   "metadata": {},
   "outputs": [],
   "source": [
    "submit_df = pd.DataFrame({'id': test['id'], 'is_iceberg': pred})\n",
    "submit_df.to_csv('naive_submission.csv', index=False)"
   ]
  },
  {
   "cell_type": "code",
   "execution_count": null,
   "metadata": {
    "collapsed": true
   },
   "outputs": [],
   "source": []
  },
  {
   "cell_type": "code",
   "execution_count": null,
   "metadata": {
    "collapsed": true
   },
   "outputs": [],
   "source": []
  }
 ],
 "metadata": {
  "kernelspec": {
   "display_name": "Python 3",
   "language": "python",
   "name": "python3"
  },
  "language_info": {
   "codemirror_mode": {
    "name": "ipython",
    "version": 3
   },
   "file_extension": ".py",
   "mimetype": "text/x-python",
   "name": "python",
   "nbconvert_exporter": "python",
   "pygments_lexer": "ipython3",
   "version": "3.6.1"
  }
 },
 "nbformat": 4,
 "nbformat_minor": 2
}
