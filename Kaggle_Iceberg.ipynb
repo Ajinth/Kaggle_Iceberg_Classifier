{
 "cells": [
  {
   "cell_type": "code",
   "execution_count": 268,
   "metadata": {},
   "outputs": [],
   "source": [
    "import pandas as pd \n",
    "import numpy as np \n",
    "import json\n",
    "\n",
    "from sklearn.model_selection import train_test_split\n",
    "from sklearn.preprocessing import StandardScaler\n",
    "\n",
    "from keras.models import Sequential\n",
    "from keras.layers import Dense, Dropout, Conv2D, MaxPool2D, Flatten\n",
    "from keras.wrappers.scikit_learn import KerasClassifier\n",
    "from keras.utils import to_categorical\n",
    "\n",
    "\n",
    "\n",
    "import matplotlib.pyplot as plt \n",
    "%matplotlib inline "
   ]
  },
  {
   "cell_type": "markdown",
   "metadata": {},
   "source": [
    "# Loading the Training and the Test Sets"
   ]
  },
  {
   "cell_type": "code",
   "execution_count": 269,
   "metadata": {},
   "outputs": [],
   "source": [
    "train = pd.read_json('train/processed/train.json')\n",
    "test = pd.read_json('test/processed/test.json')"
   ]
  },
  {
   "cell_type": "code",
   "execution_count": 270,
   "metadata": {},
   "outputs": [
    {
     "data": {
      "text/html": [
       "<div>\n",
       "<style scoped>\n",
       "    .dataframe tbody tr th:only-of-type {\n",
       "        vertical-align: middle;\n",
       "    }\n",
       "\n",
       "    .dataframe tbody tr th {\n",
       "        vertical-align: top;\n",
       "    }\n",
       "\n",
       "    .dataframe thead th {\n",
       "        text-align: right;\n",
       "    }\n",
       "</style>\n",
       "<table border=\"1\" class=\"dataframe\">\n",
       "  <thead>\n",
       "    <tr style=\"text-align: right;\">\n",
       "      <th></th>\n",
       "      <th>band_1</th>\n",
       "      <th>band_2</th>\n",
       "      <th>id</th>\n",
       "      <th>inc_angle</th>\n",
       "      <th>is_iceberg</th>\n",
       "    </tr>\n",
       "  </thead>\n",
       "  <tbody>\n",
       "    <tr>\n",
       "      <th>0</th>\n",
       "      <td>[-27.878360999999998, -27.15416, -28.668615, -...</td>\n",
       "      <td>[-27.154118, -29.537888, -31.0306, -32.190483,...</td>\n",
       "      <td>dfd5f913</td>\n",
       "      <td>43.9239</td>\n",
       "      <td>0</td>\n",
       "    </tr>\n",
       "    <tr>\n",
       "      <th>1</th>\n",
       "      <td>[-12.242375, -14.920304999999999, -14.920363, ...</td>\n",
       "      <td>[-31.506321, -27.984554, -26.645678, -23.76760...</td>\n",
       "      <td>e25388fd</td>\n",
       "      <td>38.1562</td>\n",
       "      <td>0</td>\n",
       "    </tr>\n",
       "    <tr>\n",
       "      <th>2</th>\n",
       "      <td>[-24.603676, -24.603714, -24.871029, -23.15277...</td>\n",
       "      <td>[-24.870956, -24.092632, -20.653963, -19.41104...</td>\n",
       "      <td>58b2aaa0</td>\n",
       "      <td>45.2859</td>\n",
       "      <td>1</td>\n",
       "    </tr>\n",
       "    <tr>\n",
       "      <th>3</th>\n",
       "      <td>[-22.454607, -23.082819, -23.998013, -23.99805...</td>\n",
       "      <td>[-27.889421, -27.519794, -27.165262, -29.10350...</td>\n",
       "      <td>4cfc3a18</td>\n",
       "      <td>43.8306</td>\n",
       "      <td>0</td>\n",
       "    </tr>\n",
       "    <tr>\n",
       "      <th>4</th>\n",
       "      <td>[-26.006956, -23.164886, -23.164886, -26.89116...</td>\n",
       "      <td>[-27.206915, -30.259186, -30.259186, -23.16495...</td>\n",
       "      <td>271f93f4</td>\n",
       "      <td>35.6256</td>\n",
       "      <td>0</td>\n",
       "    </tr>\n",
       "  </tbody>\n",
       "</table>\n",
       "</div>"
      ],
      "text/plain": [
       "                                              band_1  \\\n",
       "0  [-27.878360999999998, -27.15416, -28.668615, -...   \n",
       "1  [-12.242375, -14.920304999999999, -14.920363, ...   \n",
       "2  [-24.603676, -24.603714, -24.871029, -23.15277...   \n",
       "3  [-22.454607, -23.082819, -23.998013, -23.99805...   \n",
       "4  [-26.006956, -23.164886, -23.164886, -26.89116...   \n",
       "\n",
       "                                              band_2        id inc_angle  \\\n",
       "0  [-27.154118, -29.537888, -31.0306, -32.190483,...  dfd5f913   43.9239   \n",
       "1  [-31.506321, -27.984554, -26.645678, -23.76760...  e25388fd   38.1562   \n",
       "2  [-24.870956, -24.092632, -20.653963, -19.41104...  58b2aaa0   45.2859   \n",
       "3  [-27.889421, -27.519794, -27.165262, -29.10350...  4cfc3a18   43.8306   \n",
       "4  [-27.206915, -30.259186, -30.259186, -23.16495...  271f93f4   35.6256   \n",
       "\n",
       "   is_iceberg  \n",
       "0           0  \n",
       "1           0  \n",
       "2           1  \n",
       "3           0  \n",
       "4           0  "
      ]
     },
     "execution_count": 270,
     "metadata": {},
     "output_type": "execute_result"
    }
   ],
   "source": [
    "train.head()"
   ]
  },
  {
   "cell_type": "code",
   "execution_count": 271,
   "metadata": {},
   "outputs": [
    {
     "name": "stdout",
     "output_type": "stream",
     "text": [
      "<class 'pandas.core.frame.DataFrame'>\n",
      "Int64Index: 1604 entries, 0 to 1603\n",
      "Data columns (total 5 columns):\n",
      "band_1        1604 non-null object\n",
      "band_2        1604 non-null object\n",
      "id            1604 non-null object\n",
      "inc_angle     1604 non-null object\n",
      "is_iceberg    1604 non-null int64\n",
      "dtypes: int64(1), object(4)\n",
      "memory usage: 75.2+ KB\n"
     ]
    }
   ],
   "source": [
    "train.info()"
   ]
  },
  {
   "cell_type": "code",
   "execution_count": 272,
   "metadata": {},
   "outputs": [
    {
     "data": {
      "text/plain": [
       "na         133\n",
       "34.4721     23\n",
       "42.5591     16\n",
       "36.1061     15\n",
       "33.6352     15\n",
       "Name: inc_angle, dtype: int64"
      ]
     },
     "execution_count": 272,
     "metadata": {},
     "output_type": "execute_result"
    }
   ],
   "source": [
    "train['inc_angle'].value_counts().head()"
   ]
  },
  {
   "cell_type": "markdown",
   "metadata": {},
   "source": [
    "We right away notice that there are some NA valus in the inc_angle column "
   ]
  },
  {
   "cell_type": "code",
   "execution_count": 273,
   "metadata": {},
   "outputs": [
    {
     "data": {
      "text/plain": [
       "'na'"
      ]
     },
     "execution_count": 273,
     "metadata": {},
     "output_type": "execute_result"
    }
   ],
   "source": [
    "train['inc_angle'].value_counts().head().index[0]"
   ]
  },
  {
   "cell_type": "code",
   "execution_count": 274,
   "metadata": {},
   "outputs": [],
   "source": [
    "'''Replacing the NAs with 0s'''\n",
    "train['inc_angle'] = train.inc_angle.replace(train['inc_angle'].value_counts().head().index[0], 0)"
   ]
  },
  {
   "cell_type": "code",
   "execution_count": 275,
   "metadata": {},
   "outputs": [
    {
     "data": {
      "text/plain": [
       "0.0000     133\n",
       "34.4721     23\n",
       "42.5591     16\n",
       "33.6352     15\n",
       "36.1061     15\n",
       "Name: inc_angle, dtype: int64"
      ]
     },
     "execution_count": 275,
     "metadata": {},
     "output_type": "execute_result"
    }
   ],
   "source": [
    "'''Validating the Replacements'''\n",
    "train['inc_angle'].value_counts().head()"
   ]
  },
  {
   "cell_type": "code",
   "execution_count": 276,
   "metadata": {},
   "outputs": [
    {
     "data": {
      "text/html": [
       "<div>\n",
       "<style scoped>\n",
       "    .dataframe tbody tr th:only-of-type {\n",
       "        vertical-align: middle;\n",
       "    }\n",
       "\n",
       "    .dataframe tbody tr th {\n",
       "        vertical-align: top;\n",
       "    }\n",
       "\n",
       "    .dataframe thead th {\n",
       "        text-align: right;\n",
       "    }\n",
       "</style>\n",
       "<table border=\"1\" class=\"dataframe\">\n",
       "  <thead>\n",
       "    <tr style=\"text-align: right;\">\n",
       "      <th></th>\n",
       "      <th>band_1</th>\n",
       "      <th>band_2</th>\n",
       "      <th>id</th>\n",
       "      <th>inc_angle</th>\n",
       "      <th>is_iceberg</th>\n",
       "    </tr>\n",
       "  </thead>\n",
       "  <tbody>\n",
       "    <tr>\n",
       "      <th>0</th>\n",
       "      <td>[-27.878360999999998, -27.15416, -28.668615, -...</td>\n",
       "      <td>[-27.154118, -29.537888, -31.0306, -32.190483,...</td>\n",
       "      <td>dfd5f913</td>\n",
       "      <td>43.9239</td>\n",
       "      <td>0</td>\n",
       "    </tr>\n",
       "    <tr>\n",
       "      <th>1</th>\n",
       "      <td>[-12.242375, -14.920304999999999, -14.920363, ...</td>\n",
       "      <td>[-31.506321, -27.984554, -26.645678, -23.76760...</td>\n",
       "      <td>e25388fd</td>\n",
       "      <td>38.1562</td>\n",
       "      <td>0</td>\n",
       "    </tr>\n",
       "    <tr>\n",
       "      <th>2</th>\n",
       "      <td>[-24.603676, -24.603714, -24.871029, -23.15277...</td>\n",
       "      <td>[-24.870956, -24.092632, -20.653963, -19.41104...</td>\n",
       "      <td>58b2aaa0</td>\n",
       "      <td>45.2859</td>\n",
       "      <td>1</td>\n",
       "    </tr>\n",
       "    <tr>\n",
       "      <th>3</th>\n",
       "      <td>[-22.454607, -23.082819, -23.998013, -23.99805...</td>\n",
       "      <td>[-27.889421, -27.519794, -27.165262, -29.10350...</td>\n",
       "      <td>4cfc3a18</td>\n",
       "      <td>43.8306</td>\n",
       "      <td>0</td>\n",
       "    </tr>\n",
       "    <tr>\n",
       "      <th>4</th>\n",
       "      <td>[-26.006956, -23.164886, -23.164886, -26.89116...</td>\n",
       "      <td>[-27.206915, -30.259186, -30.259186, -23.16495...</td>\n",
       "      <td>271f93f4</td>\n",
       "      <td>35.6256</td>\n",
       "      <td>0</td>\n",
       "    </tr>\n",
       "  </tbody>\n",
       "</table>\n",
       "</div>"
      ],
      "text/plain": [
       "                                              band_1  \\\n",
       "0  [-27.878360999999998, -27.15416, -28.668615, -...   \n",
       "1  [-12.242375, -14.920304999999999, -14.920363, ...   \n",
       "2  [-24.603676, -24.603714, -24.871029, -23.15277...   \n",
       "3  [-22.454607, -23.082819, -23.998013, -23.99805...   \n",
       "4  [-26.006956, -23.164886, -23.164886, -26.89116...   \n",
       "\n",
       "                                              band_2        id  inc_angle  \\\n",
       "0  [-27.154118, -29.537888, -31.0306, -32.190483,...  dfd5f913    43.9239   \n",
       "1  [-31.506321, -27.984554, -26.645678, -23.76760...  e25388fd    38.1562   \n",
       "2  [-24.870956, -24.092632, -20.653963, -19.41104...  58b2aaa0    45.2859   \n",
       "3  [-27.889421, -27.519794, -27.165262, -29.10350...  4cfc3a18    43.8306   \n",
       "4  [-27.206915, -30.259186, -30.259186, -23.16495...  271f93f4    35.6256   \n",
       "\n",
       "   is_iceberg  \n",
       "0           0  \n",
       "1           0  \n",
       "2           1  \n",
       "3           0  \n",
       "4           0  "
      ]
     },
     "execution_count": 276,
     "metadata": {},
     "output_type": "execute_result"
    }
   ],
   "source": [
    "train.head()"
   ]
  },
  {
   "cell_type": "code",
   "execution_count": 277,
   "metadata": {},
   "outputs": [
    {
     "data": {
      "text/plain": [
       "0    851\n",
       "1    753\n",
       "Name: is_iceberg, dtype: int64"
      ]
     },
     "execution_count": 277,
     "metadata": {},
     "output_type": "execute_result"
    }
   ],
   "source": [
    "train.is_iceberg.value_counts()"
   ]
  },
  {
   "cell_type": "code",
   "execution_count": 278,
   "metadata": {},
   "outputs": [],
   "source": [
    "'''Preprocessing the image to be fed into the model'''\n",
    "\n",
    "b1 = np.array([np.array(band).astype(np.float32).reshape(75,75) for band in train[\"band_1\"]])\n",
    "b2 = np.array([np.array(band).astype(np.float32).reshape(75,75) for band in train['band_2']])\n",
    "\n",
    "b1 = b1/255.\n",
    "b2 = b2/255."
   ]
  },
  {
   "cell_type": "code",
   "execution_count": 279,
   "metadata": {},
   "outputs": [],
   "source": [
    "X = np.stack([b1,b2], axis=3)\n",
    "y = to_categorical(train['is_iceberg'])"
   ]
  },
  {
   "cell_type": "code",
   "execution_count": 280,
   "metadata": {
    "collapsed": true
   },
   "outputs": [],
   "source": [
    "X_train, X_test, y_train, y_test = train_test_split(X,y, test_size=0.2)"
   ]
  },
  {
   "cell_type": "code",
   "execution_count": 281,
   "metadata": {},
   "outputs": [
    {
     "data": {
      "text/plain": [
       "(1283, 75, 75, 2)"
      ]
     },
     "execution_count": 281,
     "metadata": {},
     "output_type": "execute_result"
    }
   ],
   "source": [
    "X_train.shape"
   ]
  },
  {
   "cell_type": "code",
   "execution_count": 282,
   "metadata": {},
   "outputs": [
    {
     "data": {
      "text/plain": [
       "2"
      ]
     },
     "execution_count": 282,
     "metadata": {},
     "output_type": "execute_result"
    }
   ],
   "source": [
    "y_test.shape[1]"
   ]
  },
  {
   "cell_type": "markdown",
   "metadata": {},
   "source": [
    "# Buidling a Simple Keras Model"
   ]
  },
  {
   "cell_type": "code",
   "execution_count": 283,
   "metadata": {},
   "outputs": [],
   "source": [
    "'''Setting up the Model'''\n",
    "model=Sequential()\n",
    "\n",
    "'''Setting up the Layers'''\n",
    "model.add(Conv2D(filters=15, kernel_size=(5,5), strides=(1,1), input_shape=(75,75,2), activation='relu'))\n",
    "model.add(MaxPool2D(pool_size=(2,2)))\n",
    "\n",
    "model.add(Conv2D(filters=30, kernel_size=(4,4), activation='relu'))\n",
    "model.add(MaxPool2D(pool_size=(2,2)))\n",
    "\n",
    "model.add(Conv2D(filters=45, kernel_size=(4,4), activation='relu'))\n",
    "model.add(MaxPool2D(pool_size=(2,2)))\n",
    "\n",
    "model.add(Flatten())\n",
    "model.add(Dense(50, activation='relu'))\n",
    "\n",
    "'''Setting up the Output'''\n",
    "model.add(Dense(2, activation='sigmoid'))"
   ]
  },
  {
   "cell_type": "code",
   "execution_count": 284,
   "metadata": {},
   "outputs": [],
   "source": [
    "'''Compiling the Model'''\n",
    "model.compile(optimizer='adam', loss='categorical_crossentropy', metrics = ['accuracy'])"
   ]
  },
  {
   "cell_type": "code",
   "execution_count": 285,
   "metadata": {},
   "outputs": [
    {
     "name": "stdout",
     "output_type": "stream",
     "text": [
      "Train on 1283 samples, validate on 321 samples\n",
      "Epoch 1/50\n",
      "1283/1283 [==============================] - 11s 9ms/step - loss: 0.6800 - acc: 0.5284 - val_loss: 0.6203 - val_acc: 0.5576\n",
      "Epoch 2/50\n",
      "1283/1283 [==============================] - 8s 7ms/step - loss: 0.5902 - acc: 0.6399 - val_loss: 0.5816 - val_acc: 0.5265\n",
      "Epoch 3/50\n",
      "1283/1283 [==============================] - 8s 6ms/step - loss: 0.5714 - acc: 0.6555 - val_loss: 0.5586 - val_acc: 0.6480\n",
      "Epoch 4/50\n",
      "1283/1283 [==============================] - 8s 7ms/step - loss: 0.5411 - acc: 0.6906 - val_loss: 0.5071 - val_acc: 0.6916\n",
      "Epoch 5/50\n",
      "1283/1283 [==============================] - 8s 6ms/step - loss: 0.4601 - acc: 0.7740 - val_loss: 0.4223 - val_acc: 0.7508\n",
      "Epoch 6/50\n",
      "1283/1283 [==============================] - 9s 7ms/step - loss: 0.3953 - acc: 0.8012 - val_loss: 0.3692 - val_acc: 0.7975\n",
      "Epoch 7/50\n",
      "1283/1283 [==============================] - 9s 7ms/step - loss: 0.3936 - acc: 0.8129 - val_loss: 0.4888 - val_acc: 0.7227\n",
      "Epoch 8/50\n",
      "1283/1283 [==============================] - 10s 8ms/step - loss: 0.4389 - acc: 0.7825 - val_loss: 0.3924 - val_acc: 0.7913\n",
      "Epoch 9/50\n",
      "1283/1283 [==============================] - 9s 7ms/step - loss: 0.3810 - acc: 0.8122 - val_loss: 0.4028 - val_acc: 0.8037\n",
      "Epoch 10/50\n",
      "1283/1283 [==============================] - 9s 7ms/step - loss: 0.3670 - acc: 0.8309 - val_loss: 0.3764 - val_acc: 0.8193\n",
      "Epoch 11/50\n",
      "1283/1283 [==============================] - 8s 6ms/step - loss: 0.3351 - acc: 0.8363 - val_loss: 0.3453 - val_acc: 0.8255\n",
      "Epoch 12/50\n",
      "1283/1283 [==============================] - 8s 6ms/step - loss: 0.3205 - acc: 0.8542 - val_loss: 0.3635 - val_acc: 0.8318\n",
      "Epoch 13/50\n",
      "1283/1283 [==============================] - 9s 7ms/step - loss: 0.3431 - acc: 0.8371 - val_loss: 0.3558 - val_acc: 0.8255\n",
      "Epoch 14/50\n",
      "1283/1283 [==============================] - 9s 7ms/step - loss: 0.3191 - acc: 0.8613 - val_loss: 0.5070 - val_acc: 0.7788\n",
      "Epoch 15/50\n",
      "1283/1283 [==============================] - 8s 6ms/step - loss: 0.3246 - acc: 0.8511 - val_loss: 0.3679 - val_acc: 0.8349\n",
      "Epoch 16/50\n",
      "1283/1283 [==============================] - 7s 6ms/step - loss: 0.3083 - acc: 0.8737 - val_loss: 0.3081 - val_acc: 0.8505\n",
      "Epoch 17/50\n",
      "1283/1283 [==============================] - 7s 6ms/step - loss: 0.2824 - acc: 0.8769 - val_loss: 0.3454 - val_acc: 0.8380\n",
      "Epoch 18/50\n",
      "1283/1283 [==============================] - 7s 6ms/step - loss: 0.2774 - acc: 0.8730 - val_loss: 0.3083 - val_acc: 0.8567\n",
      "Epoch 19/50\n",
      "1283/1283 [==============================] - 7s 6ms/step - loss: 0.2783 - acc: 0.8761 - val_loss: 0.3276 - val_acc: 0.8567\n",
      "Epoch 20/50\n",
      "1283/1283 [==============================] - 7s 6ms/step - loss: 0.2834 - acc: 0.8722 - val_loss: 0.3050 - val_acc: 0.8567\n",
      "Epoch 21/50\n",
      "1283/1283 [==============================] - 8s 6ms/step - loss: 0.2601 - acc: 0.8870 - val_loss: 0.3202 - val_acc: 0.8442\n",
      "Epoch 22/50\n",
      "1283/1283 [==============================] - 8s 6ms/step - loss: 0.2990 - acc: 0.8722 - val_loss: 0.3673 - val_acc: 0.8255\n",
      "Epoch 23/50\n",
      "1283/1283 [==============================] - 8s 6ms/step - loss: 0.2816 - acc: 0.8722 - val_loss: 0.2990 - val_acc: 0.8629\n",
      "Epoch 24/50\n",
      "1283/1283 [==============================] - 8s 6ms/step - loss: 0.2777 - acc: 0.8800 - val_loss: 0.3082 - val_acc: 0.8629\n",
      "Epoch 25/50\n",
      "1283/1283 [==============================] - 8s 6ms/step - loss: 0.2506 - acc: 0.8823 - val_loss: 0.2993 - val_acc: 0.8629\n",
      "Epoch 26/50\n",
      "1283/1283 [==============================] - 8s 6ms/step - loss: 0.2528 - acc: 0.8979 - val_loss: 0.3113 - val_acc: 0.8567\n",
      "Epoch 27/50\n",
      "1283/1283 [==============================] - 8s 6ms/step - loss: 0.2325 - acc: 0.8971 - val_loss: 0.3099 - val_acc: 0.8598\n",
      "Epoch 28/50\n",
      "1283/1283 [==============================] - 7s 6ms/step - loss: 0.2463 - acc: 0.8963 - val_loss: 0.2976 - val_acc: 0.8723\n",
      "Epoch 29/50\n",
      "1283/1283 [==============================] - 8s 6ms/step - loss: 0.2167 - acc: 0.9072 - val_loss: 0.3066 - val_acc: 0.8598\n",
      "Epoch 30/50\n",
      "1283/1283 [==============================] - 8s 6ms/step - loss: 0.2521 - acc: 0.8901 - val_loss: 0.3048 - val_acc: 0.8629\n",
      "Epoch 31/50\n",
      "1283/1283 [==============================] - 7s 6ms/step - loss: 0.2213 - acc: 0.9010 - val_loss: 0.2989 - val_acc: 0.8754\n",
      "Epoch 32/50\n",
      "1283/1283 [==============================] - 7s 6ms/step - loss: 0.2198 - acc: 0.9049 - val_loss: 0.2989 - val_acc: 0.8692\n",
      "Epoch 33/50\n",
      "1283/1283 [==============================] - 7s 6ms/step - loss: 0.2032 - acc: 0.9104 - val_loss: 0.3081 - val_acc: 0.8567\n",
      "Epoch 34/50\n",
      "1283/1283 [==============================] - 7s 6ms/step - loss: 0.2071 - acc: 0.9041 - val_loss: 0.3140 - val_acc: 0.8660\n",
      "Epoch 35/50\n",
      "1283/1283 [==============================] - 7s 6ms/step - loss: 0.2057 - acc: 0.9111 - val_loss: 0.2953 - val_acc: 0.8660\n",
      "Epoch 36/50\n",
      "1283/1283 [==============================] - 7s 6ms/step - loss: 0.1863 - acc: 0.9182 - val_loss: 0.2842 - val_acc: 0.8692\n",
      "Epoch 37/50\n",
      "1283/1283 [==============================] - 7s 6ms/step - loss: 0.1847 - acc: 0.9213 - val_loss: 0.2994 - val_acc: 0.8660\n",
      "Epoch 38/50\n",
      "1283/1283 [==============================] - 8s 6ms/step - loss: 0.1888 - acc: 0.9205 - val_loss: 0.3296 - val_acc: 0.8816\n",
      "Epoch 39/50\n",
      "1283/1283 [==============================] - 7s 6ms/step - loss: 0.1917 - acc: 0.9166 - val_loss: 0.2978 - val_acc: 0.8723\n",
      "Epoch 40/50\n",
      "1283/1283 [==============================] - 7s 6ms/step - loss: 0.1683 - acc: 0.9275 - val_loss: 0.3101 - val_acc: 0.8785\n",
      "Epoch 41/50\n",
      "1283/1283 [==============================] - 8s 6ms/step - loss: 0.1586 - acc: 0.9314 - val_loss: 0.3179 - val_acc: 0.8629\n",
      "Epoch 42/50\n",
      "1283/1283 [==============================] - 9s 7ms/step - loss: 0.1518 - acc: 0.9408 - val_loss: 0.3204 - val_acc: 0.8660\n",
      "Epoch 43/50\n",
      "1283/1283 [==============================] - 8s 6ms/step - loss: 0.1560 - acc: 0.9369 - val_loss: 0.3175 - val_acc: 0.8692\n",
      "Epoch 44/50\n",
      "1283/1283 [==============================] - 8s 6ms/step - loss: 0.1821 - acc: 0.9166 - val_loss: 0.3744 - val_acc: 0.8598\n",
      "Epoch 45/50\n",
      "1283/1283 [==============================] - 7s 6ms/step - loss: 0.1613 - acc: 0.9361 - val_loss: 0.2962 - val_acc: 0.8847\n",
      "Epoch 46/50\n",
      "1283/1283 [==============================] - 7s 6ms/step - loss: 0.1336 - acc: 0.9431 - val_loss: 0.3197 - val_acc: 0.8847\n",
      "Epoch 47/50\n",
      "1283/1283 [==============================] - 7s 5ms/step - loss: 0.1811 - acc: 0.9135 - val_loss: 0.3084 - val_acc: 0.8785\n",
      "Epoch 48/50\n",
      "1283/1283 [==============================] - 7s 5ms/step - loss: 0.1384 - acc: 0.9408 - val_loss: 0.3158 - val_acc: 0.8785\n",
      "Epoch 49/50\n",
      "1283/1283 [==============================] - 7s 5ms/step - loss: 0.1192 - acc: 0.9548 - val_loss: 0.3325 - val_acc: 0.8785\n",
      "Epoch 50/50\n",
      "1283/1283 [==============================] - 9s 7ms/step - loss: 0.1130 - acc: 0.9579 - val_loss: 0.3605 - val_acc: 0.8598\n"
     ]
    },
    {
     "data": {
      "text/plain": [
       "<keras.callbacks.History at 0x43147f9b0>"
      ]
     },
     "execution_count": 285,
     "metadata": {},
     "output_type": "execute_result"
    }
   ],
   "source": [
    "'''Fitting the model'''\n",
    "model.fit(X_train,y_train, validation_data=[X_test, y_test], epochs=50, verbose=1)"
   ]
  },
  {
   "cell_type": "code",
   "execution_count": 286,
   "metadata": {},
   "outputs": [
    {
     "name": "stdout",
     "output_type": "stream",
     "text": [
      "_________________________________________________________________\n",
      "Layer (type)                 Output Shape              Param #   \n",
      "=================================================================\n",
      "conv2d_52 (Conv2D)           (None, 71, 71, 15)        765       \n",
      "_________________________________________________________________\n",
      "max_pooling2d_52 (MaxPooling (None, 35, 35, 15)        0         \n",
      "_________________________________________________________________\n",
      "conv2d_53 (Conv2D)           (None, 32, 32, 30)        7230      \n",
      "_________________________________________________________________\n",
      "max_pooling2d_53 (MaxPooling (None, 16, 16, 30)        0         \n",
      "_________________________________________________________________\n",
      "conv2d_54 (Conv2D)           (None, 13, 13, 45)        21645     \n",
      "_________________________________________________________________\n",
      "max_pooling2d_54 (MaxPooling (None, 6, 6, 45)          0         \n",
      "_________________________________________________________________\n",
      "flatten_16 (Flatten)         (None, 1620)              0         \n",
      "_________________________________________________________________\n",
      "dense_25 (Dense)             (None, 50)                81050     \n",
      "_________________________________________________________________\n",
      "dense_26 (Dense)             (None, 2)                 102       \n",
      "=================================================================\n",
      "Total params: 110,792\n",
      "Trainable params: 110,792\n",
      "Non-trainable params: 0\n",
      "_________________________________________________________________\n"
     ]
    }
   ],
   "source": [
    "model.summary()"
   ]
  },
  {
   "cell_type": "markdown",
   "metadata": {},
   "source": [
    "# Getting Ready for some predictions "
   ]
  },
  {
   "cell_type": "code",
   "execution_count": 287,
   "metadata": {},
   "outputs": [],
   "source": [
    "'''Preprocessing the test image to be fed into the model'''\n",
    "b1_test = np.array([np.array(band).astype(np.float32).reshape(75,75) for band in test[\"band_1\"]])\n",
    "b2_test = np.array([np.array(band).astype(np.float32).reshape(75,75) for band in test['band_2']])\n",
    "\n",
    "b1_test = b1_test/255.\n",
    "b2_test = b2_test/255."
   ]
  },
  {
   "cell_type": "code",
   "execution_count": 288,
   "metadata": {
    "collapsed": true
   },
   "outputs": [],
   "source": [
    "X_test_submission = np.stack([b1_test,b2_test], axis=3)"
   ]
  },
  {
   "cell_type": "code",
   "execution_count": 289,
   "metadata": {
    "collapsed": true
   },
   "outputs": [],
   "source": [
    "pred = model.predict_classes(X_test_submission)"
   ]
  },
  {
   "cell_type": "code",
   "execution_count": 290,
   "metadata": {},
   "outputs": [
    {
     "data": {
      "text/plain": [
       "array([0, 1, 1, 1, 1, 0, 0, 1, 0, 0])"
      ]
     },
     "execution_count": 290,
     "metadata": {},
     "output_type": "execute_result"
    }
   ],
   "source": [
    "pred[0:10]"
   ]
  },
  {
   "cell_type": "code",
   "execution_count": 291,
   "metadata": {},
   "outputs": [],
   "source": [
    "submit_df = pd.DataFrame({'id': test['id'], 'is_iceberg': pred})\n",
    "submit_df.to_csv('naive_submission.csv', index=False)"
   ]
  },
  {
   "cell_type": "code",
   "execution_count": null,
   "metadata": {
    "collapsed": true
   },
   "outputs": [],
   "source": []
  }
 ],
 "metadata": {
  "kernelspec": {
   "display_name": "Python 3",
   "language": "python",
   "name": "python3"
  },
  "language_info": {
   "codemirror_mode": {
    "name": "ipython",
    "version": 3
   },
   "file_extension": ".py",
   "mimetype": "text/x-python",
   "name": "python",
   "nbconvert_exporter": "python",
   "pygments_lexer": "ipython3",
   "version": "3.6.1"
  }
 },
 "nbformat": 4,
 "nbformat_minor": 2
}
