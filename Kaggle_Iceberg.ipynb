{
 "cells": [
  {
   "cell_type": "code",
   "execution_count": 1,
   "metadata": {},
   "outputs": [
    {
     "name": "stderr",
     "output_type": "stream",
     "text": [
      "Using TensorFlow backend.\n",
      "/Users/ajinthchristudas/anaconda/lib/python3.6/importlib/_bootstrap.py:205: RuntimeWarning: compiletime version 3.5 of module 'tensorflow.python.framework.fast_tensor_util' does not match runtime version 3.6\n",
      "  return f(*args, **kwds)\n"
     ]
    }
   ],
   "source": [
    "import pandas as pd \n",
    "import numpy as np \n",
    "import json\n",
    "import cv2\n",
    "\n",
    "\n",
    "from sklearn.model_selection import train_test_split\n",
    "from sklearn.preprocessing import StandardScaler\n",
    "\n",
    "from keras.models import Sequential\n",
    "from keras.layers import Dense, Dropout, Conv2D, MaxPool2D, Flatten\n",
    "from keras.wrappers.scikit_learn import KerasClassifier\n",
    "from keras.utils import to_categorical\n",
    "from keras.preprocessing.image import ImageDataGenerator # data augmentation\n",
    "from keras.optimizers import Adam, SGD\n",
    "from keras.callbacks import EarlyStopping\n",
    "\n",
    "\n",
    "\n",
    "import matplotlib.pyplot as plt \n",
    "%matplotlib inline "
   ]
  },
  {
   "cell_type": "markdown",
   "metadata": {},
   "source": [
    "# Loading the Training and the Test Sets"
   ]
  },
  {
   "cell_type": "code",
   "execution_count": 2,
   "metadata": {
    "collapsed": true
   },
   "outputs": [],
   "source": [
    "train = pd.read_json('train/processed/train.json')\n",
    "test = pd.read_json('test/processed/test.json')"
   ]
  },
  {
   "cell_type": "code",
   "execution_count": 3,
   "metadata": {},
   "outputs": [
    {
     "data": {
      "text/html": [
       "<div>\n",
       "<style scoped>\n",
       "    .dataframe tbody tr th:only-of-type {\n",
       "        vertical-align: middle;\n",
       "    }\n",
       "\n",
       "    .dataframe tbody tr th {\n",
       "        vertical-align: top;\n",
       "    }\n",
       "\n",
       "    .dataframe thead th {\n",
       "        text-align: right;\n",
       "    }\n",
       "</style>\n",
       "<table border=\"1\" class=\"dataframe\">\n",
       "  <thead>\n",
       "    <tr style=\"text-align: right;\">\n",
       "      <th></th>\n",
       "      <th>band_1</th>\n",
       "      <th>band_2</th>\n",
       "      <th>id</th>\n",
       "      <th>inc_angle</th>\n",
       "      <th>is_iceberg</th>\n",
       "    </tr>\n",
       "  </thead>\n",
       "  <tbody>\n",
       "    <tr>\n",
       "      <th>0</th>\n",
       "      <td>[-27.878360999999998, -27.15416, -28.668615, -...</td>\n",
       "      <td>[-27.154118, -29.537888, -31.0306, -32.190483,...</td>\n",
       "      <td>dfd5f913</td>\n",
       "      <td>43.9239</td>\n",
       "      <td>0</td>\n",
       "    </tr>\n",
       "    <tr>\n",
       "      <th>1</th>\n",
       "      <td>[-12.242375, -14.920304999999999, -14.920363, ...</td>\n",
       "      <td>[-31.506321, -27.984554, -26.645678, -23.76760...</td>\n",
       "      <td>e25388fd</td>\n",
       "      <td>38.1562</td>\n",
       "      <td>0</td>\n",
       "    </tr>\n",
       "    <tr>\n",
       "      <th>2</th>\n",
       "      <td>[-24.603676, -24.603714, -24.871029, -23.15277...</td>\n",
       "      <td>[-24.870956, -24.092632, -20.653963, -19.41104...</td>\n",
       "      <td>58b2aaa0</td>\n",
       "      <td>45.2859</td>\n",
       "      <td>1</td>\n",
       "    </tr>\n",
       "    <tr>\n",
       "      <th>3</th>\n",
       "      <td>[-22.454607, -23.082819, -23.998013, -23.99805...</td>\n",
       "      <td>[-27.889421, -27.519794, -27.165262, -29.10350...</td>\n",
       "      <td>4cfc3a18</td>\n",
       "      <td>43.8306</td>\n",
       "      <td>0</td>\n",
       "    </tr>\n",
       "    <tr>\n",
       "      <th>4</th>\n",
       "      <td>[-26.006956, -23.164886, -23.164886, -26.89116...</td>\n",
       "      <td>[-27.206915, -30.259186, -30.259186, -23.16495...</td>\n",
       "      <td>271f93f4</td>\n",
       "      <td>35.6256</td>\n",
       "      <td>0</td>\n",
       "    </tr>\n",
       "  </tbody>\n",
       "</table>\n",
       "</div>"
      ],
      "text/plain": [
       "                                              band_1  \\\n",
       "0  [-27.878360999999998, -27.15416, -28.668615, -...   \n",
       "1  [-12.242375, -14.920304999999999, -14.920363, ...   \n",
       "2  [-24.603676, -24.603714, -24.871029, -23.15277...   \n",
       "3  [-22.454607, -23.082819, -23.998013, -23.99805...   \n",
       "4  [-26.006956, -23.164886, -23.164886, -26.89116...   \n",
       "\n",
       "                                              band_2        id inc_angle  \\\n",
       "0  [-27.154118, -29.537888, -31.0306, -32.190483,...  dfd5f913   43.9239   \n",
       "1  [-31.506321, -27.984554, -26.645678, -23.76760...  e25388fd   38.1562   \n",
       "2  [-24.870956, -24.092632, -20.653963, -19.41104...  58b2aaa0   45.2859   \n",
       "3  [-27.889421, -27.519794, -27.165262, -29.10350...  4cfc3a18   43.8306   \n",
       "4  [-27.206915, -30.259186, -30.259186, -23.16495...  271f93f4   35.6256   \n",
       "\n",
       "   is_iceberg  \n",
       "0           0  \n",
       "1           0  \n",
       "2           1  \n",
       "3           0  \n",
       "4           0  "
      ]
     },
     "execution_count": 3,
     "metadata": {},
     "output_type": "execute_result"
    }
   ],
   "source": [
    "train.head()"
   ]
  },
  {
   "cell_type": "code",
   "execution_count": 4,
   "metadata": {},
   "outputs": [
    {
     "name": "stdout",
     "output_type": "stream",
     "text": [
      "<class 'pandas.core.frame.DataFrame'>\n",
      "Int64Index: 1604 entries, 0 to 1603\n",
      "Data columns (total 5 columns):\n",
      "band_1        1604 non-null object\n",
      "band_2        1604 non-null object\n",
      "id            1604 non-null object\n",
      "inc_angle     1604 non-null object\n",
      "is_iceberg    1604 non-null int64\n",
      "dtypes: int64(1), object(4)\n",
      "memory usage: 75.2+ KB\n"
     ]
    }
   ],
   "source": [
    "train.info()"
   ]
  },
  {
   "cell_type": "code",
   "execution_count": 5,
   "metadata": {},
   "outputs": [
    {
     "data": {
      "text/plain": [
       "na         133\n",
       "34.4721     23\n",
       "42.5591     16\n",
       "33.6352     15\n",
       "36.1061     15\n",
       "Name: inc_angle, dtype: int64"
      ]
     },
     "execution_count": 5,
     "metadata": {},
     "output_type": "execute_result"
    }
   ],
   "source": [
    "train['inc_angle'].value_counts().head()"
   ]
  },
  {
   "cell_type": "markdown",
   "metadata": {},
   "source": [
    "We right away notice that there are some NA valus in the inc_angle column "
   ]
  },
  {
   "cell_type": "code",
   "execution_count": 6,
   "metadata": {},
   "outputs": [
    {
     "data": {
      "text/plain": [
       "'na'"
      ]
     },
     "execution_count": 6,
     "metadata": {},
     "output_type": "execute_result"
    }
   ],
   "source": [
    "train['inc_angle'].value_counts().head().index[0]"
   ]
  },
  {
   "cell_type": "code",
   "execution_count": 7,
   "metadata": {
    "collapsed": true
   },
   "outputs": [],
   "source": [
    "'''Replacing the NAs with 0s'''\n",
    "train['inc_angle'] = train.inc_angle.replace(train['inc_angle'].value_counts().head().index[0], 0)"
   ]
  },
  {
   "cell_type": "code",
   "execution_count": 8,
   "metadata": {},
   "outputs": [
    {
     "data": {
      "text/plain": [
       "0.0000     133\n",
       "34.4721     23\n",
       "42.5591     16\n",
       "33.6352     15\n",
       "36.1061     15\n",
       "Name: inc_angle, dtype: int64"
      ]
     },
     "execution_count": 8,
     "metadata": {},
     "output_type": "execute_result"
    }
   ],
   "source": [
    "'''Validating the Replacements'''\n",
    "train['inc_angle'].value_counts().head()"
   ]
  },
  {
   "cell_type": "code",
   "execution_count": 9,
   "metadata": {},
   "outputs": [
    {
     "data": {
      "text/html": [
       "<div>\n",
       "<style scoped>\n",
       "    .dataframe tbody tr th:only-of-type {\n",
       "        vertical-align: middle;\n",
       "    }\n",
       "\n",
       "    .dataframe tbody tr th {\n",
       "        vertical-align: top;\n",
       "    }\n",
       "\n",
       "    .dataframe thead th {\n",
       "        text-align: right;\n",
       "    }\n",
       "</style>\n",
       "<table border=\"1\" class=\"dataframe\">\n",
       "  <thead>\n",
       "    <tr style=\"text-align: right;\">\n",
       "      <th></th>\n",
       "      <th>band_1</th>\n",
       "      <th>band_2</th>\n",
       "      <th>id</th>\n",
       "      <th>inc_angle</th>\n",
       "      <th>is_iceberg</th>\n",
       "    </tr>\n",
       "  </thead>\n",
       "  <tbody>\n",
       "    <tr>\n",
       "      <th>0</th>\n",
       "      <td>[-27.878360999999998, -27.15416, -28.668615, -...</td>\n",
       "      <td>[-27.154118, -29.537888, -31.0306, -32.190483,...</td>\n",
       "      <td>dfd5f913</td>\n",
       "      <td>43.9239</td>\n",
       "      <td>0</td>\n",
       "    </tr>\n",
       "    <tr>\n",
       "      <th>1</th>\n",
       "      <td>[-12.242375, -14.920304999999999, -14.920363, ...</td>\n",
       "      <td>[-31.506321, -27.984554, -26.645678, -23.76760...</td>\n",
       "      <td>e25388fd</td>\n",
       "      <td>38.1562</td>\n",
       "      <td>0</td>\n",
       "    </tr>\n",
       "    <tr>\n",
       "      <th>2</th>\n",
       "      <td>[-24.603676, -24.603714, -24.871029, -23.15277...</td>\n",
       "      <td>[-24.870956, -24.092632, -20.653963, -19.41104...</td>\n",
       "      <td>58b2aaa0</td>\n",
       "      <td>45.2859</td>\n",
       "      <td>1</td>\n",
       "    </tr>\n",
       "    <tr>\n",
       "      <th>3</th>\n",
       "      <td>[-22.454607, -23.082819, -23.998013, -23.99805...</td>\n",
       "      <td>[-27.889421, -27.519794, -27.165262, -29.10350...</td>\n",
       "      <td>4cfc3a18</td>\n",
       "      <td>43.8306</td>\n",
       "      <td>0</td>\n",
       "    </tr>\n",
       "    <tr>\n",
       "      <th>4</th>\n",
       "      <td>[-26.006956, -23.164886, -23.164886, -26.89116...</td>\n",
       "      <td>[-27.206915, -30.259186, -30.259186, -23.16495...</td>\n",
       "      <td>271f93f4</td>\n",
       "      <td>35.6256</td>\n",
       "      <td>0</td>\n",
       "    </tr>\n",
       "  </tbody>\n",
       "</table>\n",
       "</div>"
      ],
      "text/plain": [
       "                                              band_1  \\\n",
       "0  [-27.878360999999998, -27.15416, -28.668615, -...   \n",
       "1  [-12.242375, -14.920304999999999, -14.920363, ...   \n",
       "2  [-24.603676, -24.603714, -24.871029, -23.15277...   \n",
       "3  [-22.454607, -23.082819, -23.998013, -23.99805...   \n",
       "4  [-26.006956, -23.164886, -23.164886, -26.89116...   \n",
       "\n",
       "                                              band_2        id  inc_angle  \\\n",
       "0  [-27.154118, -29.537888, -31.0306, -32.190483,...  dfd5f913    43.9239   \n",
       "1  [-31.506321, -27.984554, -26.645678, -23.76760...  e25388fd    38.1562   \n",
       "2  [-24.870956, -24.092632, -20.653963, -19.41104...  58b2aaa0    45.2859   \n",
       "3  [-27.889421, -27.519794, -27.165262, -29.10350...  4cfc3a18    43.8306   \n",
       "4  [-27.206915, -30.259186, -30.259186, -23.16495...  271f93f4    35.6256   \n",
       "\n",
       "   is_iceberg  \n",
       "0           0  \n",
       "1           0  \n",
       "2           1  \n",
       "3           0  \n",
       "4           0  "
      ]
     },
     "execution_count": 9,
     "metadata": {},
     "output_type": "execute_result"
    }
   ],
   "source": [
    "train.head()"
   ]
  },
  {
   "cell_type": "code",
   "execution_count": 10,
   "metadata": {},
   "outputs": [
    {
     "data": {
      "text/plain": [
       "0    851\n",
       "1    753\n",
       "Name: is_iceberg, dtype: int64"
      ]
     },
     "execution_count": 10,
     "metadata": {},
     "output_type": "execute_result"
    }
   ],
   "source": [
    "train.is_iceberg.value_counts()"
   ]
  },
  {
   "cell_type": "code",
   "execution_count": 11,
   "metadata": {
    "collapsed": true
   },
   "outputs": [],
   "source": [
    "'''Preprocessing the image to be fed into the model'''\n",
    "\n",
    "b1 = np.array([np.array(band).astype(np.float32).reshape(75,75) for band in train[\"band_1\"]])\n",
    "b2 = np.array([np.array(band).astype(np.float32).reshape(75,75) for band in train['band_2']])\n",
    "\n",
    "a = (b1 - b1.mean()) / (b1.max() - b1.min())\n",
    "b = (b2 - b2.mean()) / (b2.max() - b2.min())\n",
    "b3 = a + b\n",
    "c = (b3 - b3.mean()) / (b3.max() - b3.min())\n",
    "\n",
    "\n",
    "# # b1 = b1/255.\n",
    "# # b2 = b2/255.\n",
    "X = np.stack([a,b,c], axis=-1)\n",
    "\n",
    "# X = np.dstack((a,b,c))\n",
    "y = to_categorical(train['is_iceberg'])"
   ]
  },
  {
   "cell_type": "code",
   "execution_count": 12,
   "metadata": {
    "collapsed": true
   },
   "outputs": [],
   "source": [
    "# X_band_1=np.array([np.array(band).astype(np.float32).reshape(75, 75) for band in train[\"band_1\"]])\n",
    "# X_band_2=np.array([np.array(band).astype(np.float32).reshape(75, 75) for band in train[\"band_2\"]])\n",
    "# X = np.concatenate([X_band_1[:, :, :, np.newaxis], X_band_2[:, :, :, np.newaxis],((X_band_1+X_band_2)/2)[:, :, :, np.newaxis]], axis=-1)"
   ]
  },
  {
   "cell_type": "code",
   "execution_count": null,
   "metadata": {
    "collapsed": true
   },
   "outputs": [],
   "source": []
  },
  {
   "cell_type": "code",
   "execution_count": 13,
   "metadata": {
    "collapsed": true
   },
   "outputs": [],
   "source": [
    "X_train, X_test, y_train, y_test = train_test_split(X,y)"
   ]
  },
  {
   "cell_type": "code",
   "execution_count": 14,
   "metadata": {},
   "outputs": [
    {
     "data": {
      "text/plain": [
       "(1203, 75, 75, 3)"
      ]
     },
     "execution_count": 14,
     "metadata": {},
     "output_type": "execute_result"
    }
   ],
   "source": [
    "X_train.shape"
   ]
  },
  {
   "cell_type": "code",
   "execution_count": 15,
   "metadata": {},
   "outputs": [
    {
     "data": {
      "text/plain": [
       "(401, 2)"
      ]
     },
     "execution_count": 15,
     "metadata": {},
     "output_type": "execute_result"
    }
   ],
   "source": [
    "y_test.shape"
   ]
  },
  {
   "cell_type": "markdown",
   "metadata": {},
   "source": [
    "# Buidling a Simple Keras Model"
   ]
  },
  {
   "cell_type": "code",
   "execution_count": 16,
   "metadata": {
    "collapsed": true
   },
   "outputs": [],
   "source": [
    "'''Setting up the Model'''\n",
    "model=Sequential()\n",
    "\n",
    "'''Setting up the Layers'''\n",
    "model.add(Conv2D(filters=15, kernel_size=(5,5), strides=(1,1), input_shape=(75,75,3), activation='relu'))\n",
    "model.add(MaxPool2D(pool_size=(2,2)))\n",
    "model.add(Dropout(0.2))\n",
    "\n",
    "model.add(Conv2D(filters=30, kernel_size=(4,4), activation='relu'))\n",
    "model.add(MaxPool2D(pool_size=(2,2)))\n",
    "model.add(Dropout(0.2))\n",
    "\n",
    "\n",
    "model.add(Conv2D(filters=45, kernel_size=(4,4), activation='relu'))\n",
    "model.add(MaxPool2D(pool_size=(2,2)))\n",
    "model.add(Dropout(0.2))\n",
    "\n",
    "model.add(Conv2D(filters=60, kernel_size=(4,4), activation='relu'))\n",
    "model.add(MaxPool2D(pool_size=(2,2)))\n",
    "model.add(Dropout(0.2))\n",
    "\n",
    "\n",
    "\n",
    "model.add(Flatten())\n",
    "model.add(Dense(50, activation='relu'))\n",
    "\n",
    "'''Setting up the Output'''\n",
    "model.add(Dense(2, activation='sigmoid'))"
   ]
  },
  {
   "cell_type": "code",
   "execution_count": 17,
   "metadata": {
    "collapsed": true
   },
   "outputs": [],
   "source": [
    "'''Compiling the Model'''\n",
    "\n",
    "optimizer = Adam(lr=0.001)\n",
    "# earlystop = EarlyStopping(monitor='val_loss', min_delta=0.1, patience=10, verbose=0, mode='auto')\n",
    "# callbacks_list = [earlystop]\n",
    "\n",
    "model.compile(optimizer=optimizer, loss='categorical_crossentropy',metrics = ['accuracy'])\n"
   ]
  },
  {
   "cell_type": "code",
   "execution_count": 18,
   "metadata": {},
   "outputs": [
    {
     "name": "stdout",
     "output_type": "stream",
     "text": [
      "Train on 1283 samples, validate on 321 samples\n",
      "Epoch 1/35\n",
      "1283/1283 [==============================] - 10s 8ms/step - loss: 0.6795 - acc: 0.5807 - val_loss: 0.6678 - val_acc: 0.5421\n",
      "Epoch 2/35\n",
      "1283/1283 [==============================] - 10s 7ms/step - loss: 0.6065 - acc: 0.6602 - val_loss: 0.5529 - val_acc: 0.6667\n",
      "Epoch 3/35\n",
      "1283/1283 [==============================] - 10s 8ms/step - loss: 0.4914 - acc: 0.7576 - val_loss: 0.5331 - val_acc: 0.6604\n",
      "Epoch 4/35\n",
      "1283/1283 [==============================] - 10s 8ms/step - loss: 0.4099 - acc: 0.8005 - val_loss: 0.4557 - val_acc: 0.7414\n",
      "Epoch 5/35\n",
      "1283/1283 [==============================] - 9s 7ms/step - loss: 0.4005 - acc: 0.8067 - val_loss: 0.3882 - val_acc: 0.7664\n",
      "Epoch 6/35\n",
      "1283/1283 [==============================] - 9s 7ms/step - loss: 0.3633 - acc: 0.8246 - val_loss: 0.4156 - val_acc: 0.7913\n",
      "Epoch 7/35\n",
      "1283/1283 [==============================] - 9s 7ms/step - loss: 0.3407 - acc: 0.8441 - val_loss: 0.4233 - val_acc: 0.7726\n",
      "Epoch 8/35\n",
      "1283/1283 [==============================] - 9s 7ms/step - loss: 0.3091 - acc: 0.8636 - val_loss: 0.3514 - val_acc: 0.8567\n",
      "Epoch 9/35\n",
      "1283/1283 [==============================] - 9s 7ms/step - loss: 0.5264 - acc: 0.7763 - val_loss: 0.5749 - val_acc: 0.6199\n",
      "Epoch 10/35\n",
      "1283/1283 [==============================] - 9s 7ms/step - loss: 0.3813 - acc: 0.8145 - val_loss: 0.4157 - val_acc: 0.7695\n",
      "Epoch 11/35\n",
      "1283/1283 [==============================] - 9s 7ms/step - loss: 0.3314 - acc: 0.8488 - val_loss: 0.3699 - val_acc: 0.7944\n",
      "Epoch 12/35\n",
      "1283/1283 [==============================] - 9s 7ms/step - loss: 0.3119 - acc: 0.8535 - val_loss: 0.3702 - val_acc: 0.8069\n",
      "Epoch 13/35\n",
      "1283/1283 [==============================] - 9s 7ms/step - loss: 0.3025 - acc: 0.8644 - val_loss: 0.3364 - val_acc: 0.8193\n",
      "Epoch 14/35\n",
      "1283/1283 [==============================] - 9s 7ms/step - loss: 0.2779 - acc: 0.8737 - val_loss: 0.2905 - val_acc: 0.8723\n",
      "Epoch 15/35\n",
      "1283/1283 [==============================] - 9s 7ms/step - loss: 0.2560 - acc: 0.8878 - val_loss: 0.2876 - val_acc: 0.8536\n",
      "Epoch 16/35\n",
      "1283/1283 [==============================] - 9s 7ms/step - loss: 0.2542 - acc: 0.8878 - val_loss: 0.3201 - val_acc: 0.8723\n",
      "Epoch 17/35\n",
      "1283/1283 [==============================] - 9s 7ms/step - loss: 0.3077 - acc: 0.8652 - val_loss: 0.3143 - val_acc: 0.8474\n",
      "Epoch 18/35\n",
      "1283/1283 [==============================] - 9s 7ms/step - loss: 0.2497 - acc: 0.8893 - val_loss: 0.3166 - val_acc: 0.8442\n",
      "Epoch 19/35\n",
      "1283/1283 [==============================] - 9s 7ms/step - loss: 0.2307 - acc: 0.8940 - val_loss: 0.2670 - val_acc: 0.8785\n",
      "Epoch 20/35\n",
      "1283/1283 [==============================] - 10s 8ms/step - loss: 0.2218 - acc: 0.9034 - val_loss: 0.2811 - val_acc: 0.8723\n",
      "Epoch 21/35\n",
      "1283/1283 [==============================] - 10s 8ms/step - loss: 0.2328 - acc: 0.8971 - val_loss: 0.3403 - val_acc: 0.8287\n",
      "Epoch 22/35\n",
      "1283/1283 [==============================] - 9s 7ms/step - loss: 0.2225 - acc: 0.9072 - val_loss: 0.2815 - val_acc: 0.8785\n",
      "Epoch 23/35\n",
      "1283/1283 [==============================] - 10s 8ms/step - loss: 0.2098 - acc: 0.9096 - val_loss: 0.2693 - val_acc: 0.8816\n",
      "Epoch 24/35\n",
      "1283/1283 [==============================] - 10s 8ms/step - loss: 0.2258 - acc: 0.9018 - val_loss: 0.3066 - val_acc: 0.8629\n",
      "Epoch 25/35\n",
      "1283/1283 [==============================] - 9s 7ms/step - loss: 0.2377 - acc: 0.8979 - val_loss: 0.2579 - val_acc: 0.8910\n",
      "Epoch 26/35\n",
      "1283/1283 [==============================] - 9s 7ms/step - loss: 0.2055 - acc: 0.9119 - val_loss: 0.3364 - val_acc: 0.8567\n",
      "Epoch 27/35\n",
      "1283/1283 [==============================] - 9s 7ms/step - loss: 0.1952 - acc: 0.9236 - val_loss: 0.2623 - val_acc: 0.8941\n",
      "Epoch 28/35\n",
      "1283/1283 [==============================] - 10s 7ms/step - loss: 0.1712 - acc: 0.9244 - val_loss: 0.3033 - val_acc: 0.8660\n",
      "Epoch 29/35\n",
      "1283/1283 [==============================] - 10s 8ms/step - loss: 0.1941 - acc: 0.9166 - val_loss: 0.2940 - val_acc: 0.8785\n",
      "Epoch 30/35\n",
      "1283/1283 [==============================] - 10s 7ms/step - loss: 0.1893 - acc: 0.9104 - val_loss: 0.3595 - val_acc: 0.8318\n",
      "Epoch 31/35\n",
      "1283/1283 [==============================] - 9s 7ms/step - loss: 0.1626 - acc: 0.9337 - val_loss: 0.2964 - val_acc: 0.8816\n",
      "Epoch 32/35\n",
      "1283/1283 [==============================] - 9s 7ms/step - loss: 0.1683 - acc: 0.9299 - val_loss: 0.3734 - val_acc: 0.8474\n",
      "Epoch 33/35\n",
      "1283/1283 [==============================] - 10s 8ms/step - loss: 0.1872 - acc: 0.9236 - val_loss: 0.2982 - val_acc: 0.8847\n",
      "Epoch 34/35\n",
      "1283/1283 [==============================] - 9s 7ms/step - loss: 0.1648 - acc: 0.9299 - val_loss: 0.2961 - val_acc: 0.8692\n",
      "Epoch 35/35\n",
      "1283/1283 [==============================] - 9s 7ms/step - loss: 0.1658 - acc: 0.9299 - val_loss: 0.3195 - val_acc: 0.8754\n"
     ]
    },
    {
     "data": {
      "text/plain": [
       "<keras.callbacks.History at 0x1a26740b8>"
      ]
     },
     "execution_count": 18,
     "metadata": {},
     "output_type": "execute_result"
    }
   ],
   "source": [
    "'''Fitting the model'''\n",
    "# model.fit(X_train, y_train, validation_data=[X_test, y_test], epochs=35,\\\n",
    "#           verbose=1, batch_size=32)\n",
    "\n",
    "model.fit(X, y, validation_split=0.2, epochs=35, verbose=1)"
   ]
  },
  {
   "cell_type": "code",
   "execution_count": 19,
   "metadata": {},
   "outputs": [
    {
     "name": "stdout",
     "output_type": "stream",
     "text": [
      "_________________________________________________________________\n",
      "Layer (type)                 Output Shape              Param #   \n",
      "=================================================================\n",
      "conv2d_1 (Conv2D)            (None, 71, 71, 15)        1140      \n",
      "_________________________________________________________________\n",
      "max_pooling2d_1 (MaxPooling2 (None, 35, 35, 15)        0         \n",
      "_________________________________________________________________\n",
      "dropout_1 (Dropout)          (None, 35, 35, 15)        0         \n",
      "_________________________________________________________________\n",
      "conv2d_2 (Conv2D)            (None, 32, 32, 30)        7230      \n",
      "_________________________________________________________________\n",
      "max_pooling2d_2 (MaxPooling2 (None, 16, 16, 30)        0         \n",
      "_________________________________________________________________\n",
      "dropout_2 (Dropout)          (None, 16, 16, 30)        0         \n",
      "_________________________________________________________________\n",
      "conv2d_3 (Conv2D)            (None, 13, 13, 45)        21645     \n",
      "_________________________________________________________________\n",
      "max_pooling2d_3 (MaxPooling2 (None, 6, 6, 45)          0         \n",
      "_________________________________________________________________\n",
      "dropout_3 (Dropout)          (None, 6, 6, 45)          0         \n",
      "_________________________________________________________________\n",
      "conv2d_4 (Conv2D)            (None, 3, 3, 60)          43260     \n",
      "_________________________________________________________________\n",
      "max_pooling2d_4 (MaxPooling2 (None, 1, 1, 60)          0         \n",
      "_________________________________________________________________\n",
      "dropout_4 (Dropout)          (None, 1, 1, 60)          0         \n",
      "_________________________________________________________________\n",
      "flatten_1 (Flatten)          (None, 60)                0         \n",
      "_________________________________________________________________\n",
      "dense_1 (Dense)              (None, 50)                3050      \n",
      "_________________________________________________________________\n",
      "dense_2 (Dense)              (None, 2)                 102       \n",
      "=================================================================\n",
      "Total params: 76,427\n",
      "Trainable params: 76,427\n",
      "Non-trainable params: 0\n",
      "_________________________________________________________________\n"
     ]
    }
   ],
   "source": [
    "model.summary()"
   ]
  },
  {
   "cell_type": "markdown",
   "metadata": {},
   "source": [
    "# Getting Ready for some predictions "
   ]
  },
  {
   "cell_type": "code",
   "execution_count": 20,
   "metadata": {
    "collapsed": true
   },
   "outputs": [],
   "source": [
    "'''Preprocessing the test image to be fed into the model'''\n",
    "b1_test = np.array([np.array(band).astype(np.float32).reshape(75,75) for band in test[\"band_1\"]])\n",
    "b2_test = np.array([np.array(band).astype(np.float32).reshape(75,75) for band in test['band_2']])\n",
    "\n",
    "# b1_test = b1_test/255.\n",
    "# b2_test = b2_test/255.\n",
    "\n",
    "b1_test = (b1_test - b1_test.mean()) / (b1_test.max() - b1_test.min())\n",
    "b2_test = (b2_test - b2_test.mean()) / (b2_test.max() - b2_test.min())\n",
    "\n",
    "b3_test = b1_test + b2_test\n",
    "b3_test = (b3_test - b3_test.mean()) / (b3_test.max() - b3_test.min())\n",
    "\n",
    "X = np.stack([b1_test,b2_test, b3_test], axis=-1)"
   ]
  },
  {
   "cell_type": "code",
   "execution_count": 21,
   "metadata": {
    "collapsed": true
   },
   "outputs": [],
   "source": [
    "pred = model.predict_classes(X)"
   ]
  },
  {
   "cell_type": "code",
   "execution_count": 22,
   "metadata": {},
   "outputs": [
    {
     "data": {
      "text/plain": [
       "array([0, 1, 0, 1, 1, 1, 0, 1, 1, 0])"
      ]
     },
     "execution_count": 22,
     "metadata": {},
     "output_type": "execute_result"
    }
   ],
   "source": [
    "pred[0:10]"
   ]
  },
  {
   "cell_type": "code",
   "execution_count": 23,
   "metadata": {
    "collapsed": true
   },
   "outputs": [],
   "source": [
    "submit_df = pd.DataFrame({'id': test['id'], 'is_iceberg': pred})\n",
    "submit_df.to_csv('naive_submission.csv', index=False)"
   ]
  },
  {
   "cell_type": "code",
   "execution_count": null,
   "metadata": {
    "collapsed": true
   },
   "outputs": [],
   "source": []
  },
  {
   "cell_type": "code",
   "execution_count": null,
   "metadata": {
    "collapsed": true
   },
   "outputs": [],
   "source": []
  }
 ],
 "metadata": {
  "kernelspec": {
   "display_name": "Python 3",
   "language": "python",
   "name": "python3"
  },
  "language_info": {
   "codemirror_mode": {
    "name": "ipython",
    "version": 3
   },
   "file_extension": ".py",
   "mimetype": "text/x-python",
   "name": "python",
   "nbconvert_exporter": "python",
   "pygments_lexer": "ipython3",
   "version": "3.6.1"
  }
 },
 "nbformat": 4,
 "nbformat_minor": 2
}
